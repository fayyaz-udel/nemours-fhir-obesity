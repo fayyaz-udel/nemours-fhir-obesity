{
 "cells": [
  {
   "cell_type": "code",
   "execution_count": 1,
   "id": "initial_id",
   "metadata": {
    "collapsed": true,
    "ExecuteTime": {
     "end_time": "2023-11-14T02:25:51.065637600Z",
     "start_time": "2023-11-14T02:25:30.841437800Z"
    }
   },
   "outputs": [],
   "source": [
    "import numpy as np\n",
    "from model import *"
   ]
  },
  {
   "cell_type": "code",
   "execution_count": 4,
   "outputs": [
    {
     "ename": "KeyError",
     "evalue": "'CODING'",
     "output_type": "error",
     "traceback": [
      "\u001B[1;31m---------------------------------------------------------------------------\u001B[0m",
      "\u001B[1;31mKeyError\u001B[0m                                  Traceback (most recent call last)",
      "Cell \u001B[1;32mIn[4], line 9\u001B[0m\n\u001B[0;32m      5\u001B[0m config \u001B[38;5;241m=\u001B[39m configparser\u001B[38;5;241m.\u001B[39mConfigParser()\n\u001B[0;32m      6\u001B[0m config\u001B[38;5;241m.\u001B[39mread(\u001B[38;5;124m'\u001B[39m\u001B[38;5;124m../config.ini\u001B[39m\u001B[38;5;124m'\u001B[39m)\n\u001B[1;32m----> 9\u001B[0m \u001B[38;5;28mprint\u001B[39m(\u001B[43mconfig\u001B[49m\u001B[43m[\u001B[49m\u001B[38;5;124;43m'\u001B[39;49m\u001B[38;5;124;43mCODING\u001B[39;49m\u001B[38;5;124;43m'\u001B[39;49m\u001B[43m]\u001B[49m[\u001B[38;5;124m'\u001B[39m\u001B[38;5;124mmed\u001B[39m\u001B[38;5;124m'\u001B[39m])\n",
      "File \u001B[1;32m~\\AppData\\Local\\Programs\\Python\\Python39\\lib\\configparser.py:963\u001B[0m, in \u001B[0;36mRawConfigParser.__getitem__\u001B[1;34m(self, key)\u001B[0m\n\u001B[0;32m    961\u001B[0m \u001B[38;5;28;01mdef\u001B[39;00m \u001B[38;5;21m__getitem__\u001B[39m(\u001B[38;5;28mself\u001B[39m, key):\n\u001B[0;32m    962\u001B[0m     \u001B[38;5;28;01mif\u001B[39;00m key \u001B[38;5;241m!=\u001B[39m \u001B[38;5;28mself\u001B[39m\u001B[38;5;241m.\u001B[39mdefault_section \u001B[38;5;129;01mand\u001B[39;00m \u001B[38;5;129;01mnot\u001B[39;00m \u001B[38;5;28mself\u001B[39m\u001B[38;5;241m.\u001B[39mhas_section(key):\n\u001B[1;32m--> 963\u001B[0m         \u001B[38;5;28;01mraise\u001B[39;00m \u001B[38;5;167;01mKeyError\u001B[39;00m(key)\n\u001B[0;32m    964\u001B[0m     \u001B[38;5;28;01mreturn\u001B[39;00m \u001B[38;5;28mself\u001B[39m\u001B[38;5;241m.\u001B[39m_proxies[key]\n",
      "\u001B[1;31mKeyError\u001B[0m: 'CODING'"
     ]
    }
   ],
   "source": [
    "import configparser\n",
    "\n",
    "import numpy as np\n",
    "\n",
    "config = configparser.ConfigParser()\n",
    "config.read('../config.ini')\n",
    "\n",
    "\n",
    "print(config['CODING']['med'])"
   ],
   "metadata": {
    "collapsed": false,
    "ExecuteTime": {
     "end_time": "2023-11-14T02:26:49.651502700Z",
     "start_time": "2023-11-14T02:26:49.336339800Z"
    }
   },
   "id": "e07413a4b3d4ee3a"
  },
  {
   "cell_type": "code",
   "execution_count": 9,
   "outputs": [],
   "source": [
    "### LOAD DATA\n",
    "static_data = np.load(r'C:\\Users\\hamed\\PycharmProjects\\nemours-fhir-obesity\\inference\\data\\processsed\\static_data.npy')\n",
    "temporal_data = np.load(r'C:\\Users\\hamed\\PycharmProjects\\nemours-fhir-obesity\\inference\\data\\processsed\\temporal_data.npy')"
   ],
   "metadata": {
    "collapsed": false,
    "ExecuteTime": {
     "end_time": "2023-11-14T02:29:01.154515600Z",
     "start_time": "2023-11-14T02:29:00.284737400Z"
    }
   },
   "id": "909a4eb93c1aed07"
  },
  {
   "cell_type": "code",
   "execution_count": null,
   "outputs": [],
   "source": [
    "def select_cohort(start_obsrv, end_obsrv, first_pred, second_pred, temporal_data):\n",
    "    curated_data = temporal_data[:, start_obsrv:end_obsrv, :]\n",
    "    first_pred_data = temporal_data[:, first_pred-1, :]\n",
    "    second_pred_data = temporal_data[:, second_pred-1, :]\n",
    "    return curated_data"
   ],
   "metadata": {
    "collapsed": false
   },
   "id": "7dbc7c3010cac6cd"
  },
  {
   "cell_type": "code",
   "execution_count": null,
   "outputs": [],
   "source": [
    "def calculate_label():\n",
    "    pass"
   ],
   "metadata": {
    "collapsed": false
   },
   "id": "ed5ff73e532d515d"
  },
  {
   "cell_type": "code",
   "execution_count": null,
   "outputs": [],
   "source": [
    "for start_obsrv in range(0, 11):\n",
    "    end_obsrv = start_obsrv + 2\n",
    "    first_pred = end_obsrv + 1\n",
    "    second_pred = end_obsrv + 2\n",
    "    "
   ],
   "metadata": {
    "collapsed": false
   },
   "id": "ce808a90e1e70550"
  },
  {
   "cell_type": "code",
   "execution_count": null,
   "outputs": [],
   "source": [],
   "metadata": {
    "collapsed": false
   },
   "id": "5f0ad8ec3833da06"
  },
  {
   "cell_type": "code",
   "execution_count": null,
   "outputs": [],
   "source": [],
   "metadata": {
    "collapsed": false
   },
   "id": "10cdfd974f117310"
  }
 ],
 "metadata": {
  "kernelspec": {
   "display_name": "Python 3",
   "language": "python",
   "name": "python3"
  },
  "language_info": {
   "codemirror_mode": {
    "name": "ipython",
    "version": 2
   },
   "file_extension": ".py",
   "mimetype": "text/x-python",
   "name": "python",
   "nbconvert_exporter": "python",
   "pygments_lexer": "ipython2",
   "version": "2.7.6"
  }
 },
 "nbformat": 4,
 "nbformat_minor": 5
}
