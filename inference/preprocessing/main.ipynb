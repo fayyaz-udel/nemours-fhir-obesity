{
 "cells": [
  {
   "cell_type": "code",
   "execution_count": 1,
   "id": "initial_id",
   "metadata": {
    "collapsed": true,
    "ExecuteTime": {
     "end_time": "2023-11-13T18:53:08.730883390Z",
     "start_time": "2023-11-13T18:53:08.682250919Z"
    }
   },
   "outputs": [],
   "source": [
    "DATA_PATH = \"../one/csv/\"\n",
    "FILL_VALUE = -1"
   ]
  },
  {
   "cell_type": "code",
   "execution_count": 2,
   "outputs": [],
   "source": [
    "### 0- IMPORTS\n",
    "import pandas as pd\n",
    "import numpy as np\n",
    "import matplotlib.pyplot as plt\n",
    "import seaborn as sns\n",
    "import os\n",
    "import sys\n",
    "import glob\n"
   ],
   "metadata": {
    "collapsed": false,
    "ExecuteTime": {
     "end_time": "2023-11-13T18:53:08.903768468Z",
     "start_time": "2023-11-13T18:53:08.862137961Z"
    }
   },
   "id": "295431159ce660fc"
  },
  {
   "cell_type": "code",
   "execution_count": 3,
   "outputs": [],
   "source": [
    "### 1- LOAD DATA\n",
    "patient_df = pd.read_csv(DATA_PATH + \"patients.csv\")\n",
    "medication_df = pd.read_csv(DATA_PATH + \"medications.csv\")\n",
    "conditions_df = pd.read_csv(DATA_PATH + \"conditions.csv\")\n",
    "observations_df = pd.read_csv(DATA_PATH + \"observations.csv\")"
   ],
   "metadata": {
    "collapsed": false,
    "ExecuteTime": {
     "end_time": "2023-11-13T18:53:15.689412989Z",
     "start_time": "2023-11-13T18:53:09.035619450Z"
    }
   },
   "id": "2e8d15180cac2500"
  },
  {
   "cell_type": "code",
   "execution_count": 4,
   "outputs": [],
   "source": [
    "### 2- DELETE UNUSED COLUMNS\n",
    "patient_cols = [\"Id\",\"BIRTHDATE\",\"DEATHDATE\",\"RACE\",\"ETHNICITY\",\"GENDER\"]\n",
    "patient_df = patient_df[patient_cols]\n",
    "\n",
    "medication_cols = [\"START\",\"STOP\",\"PATIENT\",\"ENCOUNTER\",\"CODE\",\"DESCRIPTION\"]\n",
    "medication_df = medication_df[medication_cols]\n",
    "\n",
    "conditions_cols = [\"START\",\"STOP\",\"PATIENT\",\"ENCOUNTER\",\"CODE\",\"DESCRIPTION\"]\n",
    "conditions_df = conditions_df[conditions_cols]\n",
    "\n",
    "observations_cols = [\"DATE\",\"PATIENT\",\"ENCOUNTER\",\"CODE\",\"DESCRIPTION\",\"VALUE\",\"UNITS\"]\n",
    "observations_df = observations_df[observations_cols]"
   ],
   "metadata": {
    "collapsed": false,
    "ExecuteTime": {
     "end_time": "2023-11-13T18:53:15.958251042Z",
     "start_time": "2023-11-13T18:53:15.689927049Z"
    }
   },
   "id": "ab961e9f32e50c8e"
  },
  {
   "cell_type": "code",
   "execution_count": 5,
   "outputs": [],
   "source": [
    "### 3- DELETE RARE CODES TODO: FITLER USING A LIST OF CODES\n",
    "\n",
    "THRESHOLD = 1000\n",
    "### CALCULATE CODES PREVALENCE\n",
    "medication_codes = medication_df[\"CODE\"].value_counts()\n",
    "conditions_codes = conditions_df[\"CODE\"].value_counts()\n",
    "observations_codes = observations_df[\"CODE\"].value_counts()\n",
    "### FILTER CODES BY PREVALENCE\n",
    "medication_codes = medication_codes[medication_codes > THRESHOLD]\n",
    "conditions_codes = conditions_codes[conditions_codes > THRESHOLD]\n",
    "observations_codes = observations_codes[observations_codes > THRESHOLD]\n",
    "### FILTER DATAFRAMES BY PREVALENCE\n",
    "medication_df = medication_df[medication_df[\"CODE\"].isin(medication_codes.index)]\n",
    "conditions_df = conditions_df[conditions_df[\"CODE\"].isin(conditions_codes.index)]\n",
    "observations_df = observations_df[observations_df[\"CODE\"].isin(observations_codes.index)]"
   ],
   "metadata": {
    "collapsed": false,
    "ExecuteTime": {
     "end_time": "2023-11-13T18:53:16.562501875Z",
     "start_time": "2023-11-13T18:53:16.159175290Z"
    }
   },
   "id": "f45c58ed5a73f776"
  },
  {
   "cell_type": "code",
   "execution_count": 6,
   "outputs": [],
   "source": [
    "### 4- CONVERT DATE COLUMNS TO DATETIME\n",
    "patient_df[\"BIRTHDATE\"] = pd.to_datetime(patient_df[\"BIRTHDATE\"], utc=True)\n",
    "patient_df[\"DEATHDATE\"] = pd.to_datetime(patient_df[\"DEATHDATE\"], utc=True)\n",
    "\n",
    "medication_df[\"START\"] = pd.to_datetime(medication_df[\"START\"], utc=True)\n",
    "medication_df[\"STOP\"] = pd.to_datetime(medication_df[\"STOP\"], utc=True)\n",
    "\n",
    "conditions_df[\"START\"] = pd.to_datetime(conditions_df[\"START\"], utc=True)\n",
    "conditions_df[\"STOP\"] = pd.to_datetime(conditions_df[\"STOP\"], utc=True)\n",
    "\n",
    "observations_df[\"DATE\"] = pd.to_datetime(observations_df[\"DATE\"], utc=True)"
   ],
   "metadata": {
    "collapsed": false,
    "ExecuteTime": {
     "end_time": "2023-11-13T18:53:18.983811575Z",
     "start_time": "2023-11-13T18:53:16.574593010Z"
    }
   },
   "id": "5485b0a193682445"
  },
  {
   "cell_type": "code",
   "execution_count": 7,
   "outputs": [],
   "source": [
    "### 5- CREATE AGE FROM BIRTTHDATE COLUMN\n",
    "BIN_LENTGH = 365\n",
    "\n",
    "birth_dict = dict(zip(patient_df[\"Id\"],patient_df[\"BIRTHDATE\"]))\n",
    "\n",
    "medication_df[\"AGE\"] = medication_df[\"START\"] - medication_df[\"PATIENT\"].map(birth_dict)\n",
    "medication_df[\"AGE\"] = (medication_df[\"AGE\"].dt.days/BIN_LENTGH).astype(int)\n",
    "\n",
    "conditions_df[\"AGE\"] = conditions_df[\"START\"] - conditions_df[\"PATIENT\"].map(birth_dict)\n",
    "conditions_df[\"AGE\"] = (conditions_df[\"AGE\"].dt.days/BIN_LENTGH).astype(int)\n",
    "\n",
    "observations_df[\"AGE\"] = observations_df[\"DATE\"] - observations_df[\"PATIENT\"].map(birth_dict)\n",
    "observations_df[\"AGE\"] = (observations_df[\"AGE\"].dt.days/BIN_LENTGH).astype(int)"
   ],
   "metadata": {
    "collapsed": false,
    "ExecuteTime": {
     "end_time": "2023-11-13T18:53:19.433735295Z",
     "start_time": "2023-11-13T18:53:19.039440691Z"
    }
   },
   "id": "f2f95b561be3317"
  },
  {
   "cell_type": "code",
   "execution_count": 8,
   "outputs": [],
   "source": [
    "### 6- CREATE ONE-HOT ENCODING\n",
    "medication_df[\"ONE\"] = 1\n",
    "conditions_df[\"ONE\"] = 1\n",
    "observations_df[\"VALUE\"] = pd.to_numeric(observations_df[\"VALUE\"], errors='coerce')\n",
    "\n",
    "medication_df = medication_df.pivot_table(index=[\"PATIENT\",\"AGE\"], columns=\"CODE\", values=\"ONE\", aggfunc=\"count\", fill_value=FILL_VALUE)\n",
    "conditions_df = conditions_df.pivot_table(index=[\"PATIENT\",\"AGE\"], columns=\"CODE\", values=\"ONE\", aggfunc=\"count\", fill_value=FILL_VALUE)\n",
    "observations_df = observations_df.pivot_table(index=[\"PATIENT\",\"AGE\"], columns=\"CODE\", values=\"VALUE\", aggfunc=\"mean\", fill_value=FILL_VALUE)\n"
   ],
   "metadata": {
    "collapsed": false,
    "ExecuteTime": {
     "end_time": "2023-11-13T18:53:22.342880184Z",
     "start_time": "2023-11-13T18:53:20.330778601Z"
    }
   },
   "id": "ad6e768dca980352"
  },
  {
   "cell_type": "code",
   "execution_count": 9,
   "outputs": [],
   "source": [
    "### 7- COMBINE DATAFRAMES\n",
    "df = pd.concat([medication_df, conditions_df, observations_df], axis=1)\n",
    "df.fillna(FILL_VALUE, inplace=True)"
   ],
   "metadata": {
    "collapsed": false,
    "ExecuteTime": {
     "end_time": "2023-11-13T18:53:22.598437363Z",
     "start_time": "2023-11-13T18:53:22.344104316Z"
    }
   },
   "id": "81b96d5ec63eade8"
  },
  {
   "cell_type": "code",
   "execution_count": 10,
   "outputs": [],
   "source": [
    "### 8- PREPARE PATIENT DATAFRAME\n",
    "patient_df.set_index(\"Id\", inplace=True)\n",
    "patient_df.drop([\"BIRTHDATE\",\"DEATHDATE\"], axis=1, inplace=True)\n",
    "patient_df = pd.get_dummies(patient_df, columns = [\"RACE\",\"ETHNICITY\",\"GENDER\"]).replace({True:1, False:0})\n"
   ],
   "metadata": {
    "collapsed": false,
    "ExecuteTime": {
     "end_time": "2023-11-13T18:53:22.662983Z",
     "start_time": "2023-11-13T18:53:22.602500185Z"
    }
   },
   "id": "f0d000099fc17f06"
  },
  {
   "cell_type": "code",
   "execution_count": 11,
   "outputs": [],
   "source": [
    "### 9- CREATE 3D NDARRAY\n",
    "patient_list = df.index.get_level_values(0).unique()\n",
    "\n",
    "age_list = sorted(df.index.get_level_values(1).unique())\n",
    "age_list = np.arange(age_list[0], age_list[-1]+1)\n",
    "\n",
    "\n",
    "data_temporal = np.zeros((len(patient_list), len(age_list), df.shape[1])) + FILL_VALUE\n",
    "data_static = np.zeros((len(patient_list), patient_df.shape[1])) + FILL_VALUE\n",
    "\n",
    "for patient in patient_list:\n",
    "    data_static[patient_list.get_loc(patient), :] = patient_df.loc[patient, :].values\n",
    "    for age in age_list:\n",
    "        if (patient, age) in df.index:\n",
    "            data_temporal[patient_list.get_loc(patient), age, :] = df.loc[patient, age].values\n",
    "        else:\n",
    "            data_temporal[patient_list.get_loc(patient), age, :] = FILL_VALUE"
   ],
   "metadata": {
    "collapsed": false,
    "ExecuteTime": {
     "end_time": "2023-11-13T18:53:47.818167705Z",
     "start_time": "2023-11-13T18:53:22.663085090Z"
    }
   },
   "id": "a28e7900edf2a959"
  },
  {
   "cell_type": "code",
   "execution_count": 20,
   "outputs": [],
   "source": [
    "### 10- SAVE NAME OF THE COLUMNS\n",
    "pd.DataFrame({\"cols\": df.columns.tolist()}).to_csv(\"temporal_features_list.csv\")\n",
    "pd.DataFrame({\"cols\": patient_df.columns.tolist()}).to_csv(\"static_features_list.csv\")\n",
    "pd.DataFrame({\"cols\": medication_df.columns.tolist()}).to_csv(\"medication_list.csv\")\n",
    "pd.DataFrame({\"cols\": conditions_df.columns.tolist()}).to_csv(\"condition_list.csv\")\n",
    "pd.DataFrame({\"cols\": observations_df.columns.tolist()}).to_csv(\"observation_list.csv\")"
   ],
   "metadata": {
    "collapsed": false,
    "ExecuteTime": {
     "end_time": "2023-11-13T21:27:00.268789738Z",
     "start_time": "2023-11-13T21:27:00.227821075Z"
    }
   },
   "id": "298d76152875ef02"
  },
  {
   "cell_type": "code",
   "execution_count": null,
   "outputs": [],
   "source": [],
   "metadata": {
    "collapsed": false
   },
   "id": "bf384853bd0f41f7"
  }
 ],
 "metadata": {
  "kernelspec": {
   "display_name": "Python 3",
   "language": "python",
   "name": "python3"
  },
  "language_info": {
   "codemirror_mode": {
    "name": "ipython",
    "version": 2
   },
   "file_extension": ".py",
   "mimetype": "text/x-python",
   "name": "python",
   "nbconvert_exporter": "python",
   "pygments_lexer": "ipython2",
   "version": "2.7.6"
  }
 },
 "nbformat": 4,
 "nbformat_minor": 5
}
