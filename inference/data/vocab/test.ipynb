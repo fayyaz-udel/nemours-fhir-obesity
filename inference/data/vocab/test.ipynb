{
 "cells": [
  {
   "cell_type": "code",
   "execution_count": 3,
   "id": "initial_id",
   "metadata": {
    "collapsed": true,
    "ExecuteTime": {
     "end_time": "2023-12-02T04:37:52.704092854Z",
     "start_time": "2023-12-02T04:37:52.659041675Z"
    }
   },
   "outputs": [],
   "source": [
    "import pickle"
   ]
  },
  {
   "cell_type": "code",
   "execution_count": 4,
   "outputs": [],
   "source": [
    "with open('./data/vocab/ageVocab', 'rb') as f:\n",
    "    ageVocab = pickle.load(f)"
   ],
   "metadata": {
    "collapsed": false,
    "ExecuteTime": {
     "end_time": "2023-12-02T04:37:52.936541850Z",
     "start_time": "2023-12-02T04:37:52.851308856Z"
    }
   },
   "id": "207ffaaf6512d25f"
  },
  {
   "cell_type": "code",
   "execution_count": 5,
   "outputs": [
    {
     "data": {
      "text/plain": "{0.0: 0,\n 1.0: 1,\n 2.0: 2,\n 3.0: 3,\n 4.0: 4,\n 5.0: 5,\n 6.0: 6,\n 7.0: 7,\n 8.0: 8,\n 9.0: 9,\n 10.0: 10,\n 11.0: 11,\n 12.0: 12,\n 13.0: 13,\n 14.0: 14,\n 15.0: 15,\n 16.0: 16,\n 17.0: 17,\n 18.0: 18,\n 19.0: 19,\n 20.0: 20,\n 21.0: 21,\n 22.0: 22,\n 23.0: 23,\n 24.0: 24,\n 36.0: 25,\n 48.0: 26,\n 60.0: 27,\n 72.0: 28,\n 84.0: 29,\n 96.0: 30,\n 108.0: 31,\n 120.0: 32}"
     },
     "execution_count": 5,
     "metadata": {},
     "output_type": "execute_result"
    }
   ],
   "source": [
    "ageVocab"
   ],
   "metadata": {
    "collapsed": false,
    "ExecuteTime": {
     "end_time": "2023-12-02T04:37:57.955819774Z",
     "start_time": "2023-12-02T04:37:57.936365003Z"
    }
   },
   "id": "8188e3c0c35320c4"
  },
  {
   "cell_type": "code",
   "execution_count": 4,
   "outputs": [],
   "source": [
    "import pickle\n",
    "with open('./demoVocab', 'rb') as f:\n",
    "    demoVocab = pickle.load(f)\n",
    "    \n",
    "demoVocab['Not Hispanic or Latino'] = 13\n",
    "\n",
    "with open('./demoVocab', \"wb\") as fp:   #Pickling\n",
    "    pickle.dump(demoVocab, fp)"
   ],
   "metadata": {
    "collapsed": false,
    "ExecuteTime": {
     "end_time": "2023-12-02T23:42:21.164863082Z",
     "start_time": "2023-12-02T23:42:21.115717108Z"
    }
   },
   "id": "51bc444b12698041"
  },
  {
   "cell_type": "code",
   "execution_count": 8,
   "outputs": [
    {
     "data": {
      "text/plain": "{0: 0,\n 'Black': 1,\n 'COI_3': 2,\n 'COI_0': 3,\n 'Some Other Race': 4,\n 'Male': 5,\n 'COI_5': 6,\n 'COI_9': 7,\n 'White': 8,\n 'Female': 9,\n 'COI_4': 10,\n 'Asian': 4,\n 'NI': 0,\n 'Non-Hispanic': 13,\n 'COI_1': 14,\n 'Hispanic': 15,\n 'COI_6': 16,\n 'Medicaid/sCHIP': 17,\n 'COI_7': 18,\n 'Private/Commercial': 19,\n 'COI_8': 20,\n 'COI_2': 21,\n '0': 0}"
     },
     "execution_count": 8,
     "metadata": {},
     "output_type": "execute_result"
    }
   ],
   "source": [
    "demoVocab"
   ],
   "metadata": {
    "collapsed": false,
    "ExecuteTime": {
     "end_time": "2023-12-02T04:38:43.061130204Z",
     "start_time": "2023-12-02T04:38:43.055127317Z"
    }
   },
   "id": "1092efec5f01e845"
  },
  {
   "cell_type": "code",
   "execution_count": 9,
   "outputs": [],
   "source": [
    "with open('./data/vocab/featVocab', 'rb') as f:\n",
    "    featVocab = pickle.load(f)"
   ],
   "metadata": {
    "collapsed": false,
    "ExecuteTime": {
     "end_time": "2023-12-02T04:39:19.196092734Z",
     "start_time": "2023-12-02T04:39:19.154117781Z"
    }
   },
   "id": "ebf5979866955e90"
  },
  {
   "cell_type": "code",
   "execution_count": 10,
   "outputs": [
    {
     "data": {
      "text/plain": "{'Body weight AND/OR growth problem': 1,\n 0: 0,\n '3007461_1': 2,\n 'Asthmatic bronchitis': 3,\n 'FH: Thyroid disorder': 4,\n '3012030_1': 5,\n 'Family history of Von Willebrand disease': 6,\n 'ANTIEPILEPTICS': 7,\n 'FH: Neoplasm of CNS': 8,\n 'Severe obesity': 9,\n '3010813_1': 10,\n '3022640_2': 11,\n '3017354_3': 12,\n 'Family history of diabetes mellitus type 1': 13,\n 'FH: Cardiac disorder': 14,\n '3009744_2': 15,\n 'Morbid obesity': 16,\n '3004501_2': 17,\n 'ANESTHETICS, GENERAL': 18,\n '3007461_0': 19,\n '3024128_2': 20,\n '0': 0,\n 'Family history of substance abuse': 22,\n \"Hypothyroidism due to Hashimoto's thyroiditis\": 23,\n '3013115_0': 24,\n 'Family history of hyperlipidemia': 25,\n '3016723_1': 26,\n 'Anxiety': 27,\n '3002030_2': 28,\n 'FH: Hypercholesterolemia': 29,\n '3043111_0': 30,\n '3024731_3': 31,\n 'Family history of learning disability': 32,\n 'Hypothyroidism': 33,\n 'Secondary hypertension': 34,\n '40762638_3': 35,\n 'FH: Diabetes mellitus': 36,\n '3024731_4': 37,\n 'Anxiety about body function or health': 38,\n 'Acanthosis nigricans': 39,\n '3009744_1': 40,\n '3022174_1': 41,\n '3006315_0': 42,\n '3049383_2': 43,\n 'Malignant hypertension': 44,\n 'H/O: hypertension': 45,\n '3019069_3': 46,\n 'Family history of problem behavior': 47,\n '3016723_3': 48,\n '3028406_4': 49,\n 'Family history of asthma': 50,\n '3017732_1': 51,\n '3043111_4': 52,\n '3043111_3': 53,\n 'Family history of ischemic heart disease': 54,\n 'Gastroesophageal reflux in child': 55,\n 'Chronic kidney disease stage 5 due to hypertension': 56,\n 'Elevated blood pressure': 57,\n 'CORTICOSTEROIDS, OTHER COMBINATIONS': 58,\n '3014576_4': 59,\n '3001604_4': 60,\n 'ADRENERGICS, INHALANTS': 61,\n '3006315_2': 62,\n '3019069_0': 63,\n '3006504_1': 64,\n 'DECONGESTANTS AND OTHER NASAL PREPARATIONS FOR TOPICAL USE': 65,\n 'FH: Drug dependency': 66,\n '3012030_2': 67,\n 'Very low birth weight infant': 68,\n '3024561_3': 69,\n '3020891_4': 70,\n 'Family history of Graves disease': 71,\n '3002030_4': 72,\n '3009542_1': 73,\n 'Family history of autism': 74,\n '3022174_3': 75,\n '3038553_1': 76,\n '3022640_4': 77,\n 'Family history of diabetes mellitus type 2': 78,\n 'Constipation': 79,\n 'ANTISPASMODICS IN COMBINATION WITH PSYCHOLEPTICS': 80,\n '3020951_1': 81,\n '3037577_3': 82,\n 'FH: Myocardial infarction': 83,\n '3006504_2': 84,\n '3028406_0': 85,\n 'PROPULSIVES': 86,\n 'Unable to weight-bear': 87,\n 'Simple obesity': 88,\n '3015632_2': 89,\n '3020891_0': 90,\n '3024629_3': 91,\n '3022621_4': 92,\n '3004249_0': 93,\n 'Underweight': 94,\n 'OTHER MINERAL SUPPLEMENTS': 95,\n '3020951_4': 96,\n 'MACROLIDES, LINCOSAMIDES AND STREPTOGRAMINS': 97,\n '3006504_3': 98,\n 'Dextromethorphan Hydrobromide 3.13 MG/ML / Pseudoephedrine Hydrochloride 9.38 MG/ML Oral Solution [PediaCare Infant Decongestant & Cough]': 99,\n 'DRUGS FOR CONSTIPATION': 100,\n '3016723_2': 101,\n 'ANTIEMETICS AND ANTINAUSEANTS': 102,\n 'CORTICOSTEROIDS, COMBINATIONS WITH ANTIBIOTICS': 103,\n '40762499_1': 104,\n 'Developmental delay in receptive-expressive language': 105,\n '3006906_1': 106,\n '3012888_1': 107,\n 'Binge eating disorder': 108,\n '3009744_3': 109,\n 'FH: Diabetes in pregnancy': 110,\n 'FH: Obstetric problem': 111,\n '3019069_4': 112,\n '3000963_1': 113,\n '3024629_1': 114,\n '3012030_3': 115,\n '40762638_4': 116,\n 'Diastolic hypertension': 117,\n '3017732_0': 118,\n '3013115_2': 119,\n '3019550_4': 120,\n 'Birth weight 1000-2499 g': 121,\n 'VITAMIN K AND OTHER HEMOSTATICS': 122,\n '3017732_4': 123,\n 'ANTIDIARRHEAL MICROORGANISMS': 124,\n 'ADRENERGICS FOR SYSTEMIC USE': 125,\n '3004249_2': 126,\n '3043111_2': 127,\n '3027018_2': 128,\n '3006504_4': 129,\n 'Family history of heart failure': 130,\n '3019198_3': 131,\n '3038553_0': 132,\n '2000000043_1': 133,\n 'Family history of development disorder': 134,\n '3024128_0': 135,\n 'Diabetes mellitus': 136,\n '2000000043_3': 137,\n '3045424_4': 138,\n 'I.V. SOLUTIONS': 139,\n 'ANTIFUNGALS FOR SYSTEMIC USE': 140,\n '3049383_1': 141,\n 'ECTOPARASITICIDES, INCL. SCABICIDES': 142,\n '3006315_1': 143,\n 'BETA-LACTAM ANTIBACTERIALS, PENICILLINS': 144,\n 'Family history of cardiovascular disease in first degree male relative less than 55 years of age': 145,\n 'Anxiety disorder': 146,\n 'BMIp_Change_3': 147,\n '3020416_1': 148,\n '3012888_4': 149,\n '3023103_2': 150,\n '3000963_4': 151,\n 'Childhood failure to gain weight': 152,\n 'Obesity': 153,\n '3020891_2': 154,\n '3014576_2': 155,\n '3019198_4': 156,\n '3000330_4': 157,\n '3014576_3': 158,\n '3019198_0': 159,\n '3023103_4': 160,\n '3006923_2': 161,\n 'HIGH-CEILING DIURETICS': 162,\n '3022174_2': 163,\n 'Abnormal blood pressure': 164,\n '3019198_2': 165,\n 'Precocious puberty': 166,\n '3009542_2': 167,\n 'MUSCLE RELAXANTS, PERIPHERALLY ACTING AGENTS': 168,\n 'FH: Gastrointestinal disease': 169,\n 'DRUGS FOR FUNCTIONAL GASTROINTESTINAL DISORDERS': 170,\n '40762638_1': 171,\n '3023103_0': 172,\n 'Family history of disorder of pancreas': 173,\n 'Obstructive sleep apnea syndrome': 174,\n '3038553_3': 175,\n '3007950_0': 176,\n '3010910_3': 177,\n 'BMIp_Change_2': 178,\n 'sodium chloride Nasal Spray': 179,\n '3012030_0': 180,\n 'Family history of conduction disorder of the heart': 181,\n 'Asthma-chronic obstructive pulmonary disease overlap syndrome': 182,\n '3004501_0': 183,\n '3045424_2': 184,\n 'AGENTS FOR TREATMENT OF HEMORRHOIDS AND ANAL FISSURES FOR TOPICAL USE': 185,\n 'Anxiety disorder of childhood OR adolescence': 186,\n 'Overweight': 187,\n 'Extreme obesity with alveolar hypoventilation': 188,\n 'ANESTHETICS, LOCAL': 189,\n 'Family history of sudden cardiac death': 190,\n 'ANTIBIOTICS FOR TOPICAL USE': 191,\n '3019550_2': 192,\n 'CHEMOTHERAPEUTICS FOR TOPICAL USE': 193,\n 'Mixed hypercholesterolemia and hypertriglyceridemia': 194,\n '3002030_0': 195,\n '3024128_4': 196,\n 'VITAMIN A AND D, INCL. COMBINATIONS OF THE TWO': 197,\n '3004249_3': 198,\n 'Elevated liver enzymes level': 199,\n 'Family history of autism in sibling': 200,\n '3024731_2': 201,\n 'ANTIPRURITICS, INCL. ANTIHISTAMINES, ANESTHETICS, ETC.': 202,\n '3010813_3': 203,\n '3031147_3': 204,\n '3004249_1': 205,\n '3020630_2': 206,\n '3028406_1': 207,\n 'IRON PREPARATIONS': 208,\n '3002030_1': 209,\n 'FH: Chromosomal anomaly': 210,\n '3010910_0': 211,\n '3035995_3': 212,\n '3037577_1': 213,\n '3000330_1': 214,\n '3020630_4': 215,\n 'Malignant secondary hypertension': 216,\n '3019550_0': 217,\n '3013682_4': 218,\n 'Failure to gain weight': 219,\n '3006906_0': 220,\n '3013682_2': 221,\n '3038553_4': 222,\n 'LIPID MODIFYING AGENTS, PLAIN': 223,\n '3022640_3': 224,\n '3035995_0': 225,\n '3017354_2': 226,\n 'Disorder relating to short gestation AND/OR low birthweight': 227,\n '3006923_4': 228,\n '3004501_1': 229,\n '3013115_3': 230,\n 'Asthma': 231,\n 'ANTACIDS': 232,\n 'Diabetes mellitus associated with pancreatic disease': 233,\n 'VITAMIN B12 AND FOLIC ACID': 234,\n 'Hypothalamic syndrome': 235,\n '3000330_0': 236,\n 'OTHER DRUGS FOR OBSTRUCTIVE AIRWAY DISEASES, INHALANTS': 237,\n 'Family history of consanguinity': 238,\n 'SULFONAMIDES AND TRIMETHOPRIM': 239,\n 'FH: Obesity': 240,\n 'I.V. SOLUTION ADDITIVES': 241,\n 'Slow weight gain': 242,\n '3049383_3': 243,\n '3035995_2': 244,\n '3010813_4': 245,\n 'Family history of victim of physical abuse': 246,\n '3024171_3': 247,\n 'OTHER BETA-LACTAM ANTIBACTERIALS': 248,\n 'Unintentional weight loss': 249,\n '3024731_0': 250,\n '3022640_1': 251,\n 'ANTIINFLAMMATORY AND ANTIRHEUMATIC PRODUCTS, NON-STEROIDS': 252,\n 'ANTIINFECTIVES AND ANTISEPTICS, EXCL. COMBINATIONS WITH CORTICOSTEROIDS': 253,\n '3013682_3': 254,\n '3020416_2': 255,\n 'OTHER SYSTEMIC DRUGS FOR OBSTRUCTIVE AIRWAY DISEASES': 256,\n '3027018_1': 257,\n '3004501_4': 258,\n 'FH: Raised blood lipids': 259,\n '3004249_4': 260,\n '40762499_0': 261,\n '3002030_3': 262,\n 'Family history of malignant neoplasm of thyroid': 263,\n '3038553_2': 264,\n 'Hypothyroidism caused by drug': 265,\n 'OTHER NERVOUS SYSTEM DRUGS': 266,\n '3031147_2': 267,\n 'Family history of blood coagulation disorder': 268,\n 'DECONGESTANTS AND ANTIALLERGICS': 269,\n '3010813_0': 270,\n '3037577_0': 271,\n '3024629_0': 272,\n 'UROLOGICALS': 273,\n '3012888_2': 274,\n 'ANTIMYCOTICS FOR SYSTEMIC USE': 275,\n '3014576_0': 276,\n 'Family history of mental disorder': 277,\n 'Prediabetes': 278,\n 'petrolatum Topical Ointment': 279,\n '3012030_4': 280,\n 'Hypothalamic overactivity': 281,\n 'THROAT PREPARATIONS': 282,\n '3006504_0': 283,\n 'racepinephrine Inhalation Solution': 284,\n '3001604_1': 285,\n 'FH: Depression': 286,\n 'ANTIINFECTIVES': 287,\n '3049383_0': 288,\n '3035995_1': 289,\n 'Excessive weight loss': 290,\n 'Chronic kidney disease stage 3 due to hypertension': 291,\n '3006906_3': 292,\n '3024171_4': 293,\n '3019069_1': 294,\n '3000330_3': 295,\n 'Transient hypertension': 296,\n 'FH: Cardiomyopathy': 297,\n '3045424_1': 298,\n '3009542_4': 299,\n 'OPIOIDS': 300,\n 'Family history of polycystic ovary syndrome': 301,\n '3022621_2': 302,\n '3027018_0': 303,\n '3031147_4': 304,\n '3024171_2': 305,\n '3012888_0': 306,\n '3024128_1': 307,\n 'DIRECT ACTING ANTIVIRALS': 308,\n 'Systolic hypertension': 309,\n 'CORTICOSTEROIDS FOR SYSTEMIC USE, PLAIN': 310,\n 'DRUGS FOR PEPTIC ULCER AND GASTRO-OESOPHAGEAL REFLUX DISEASE (GORD)': 311,\n 'Family history of alcoholism': 312,\n 'PARASYMPATHOMIMETICS': 313,\n 'BMIp_Change_1': 314,\n 'CARDIAC STIMULANTS EXCL. CARDIAC GLYCOSIDES': 315,\n 'FH: Hypertension': 316,\n '3022621_3': 317,\n '3023103_1': 318,\n 'FH: Manic-depressive state': 319,\n 'Primary hypertriglyceridemia': 320,\n '3022621_0': 321,\n '3000963_0': 322,\n '3009744_0': 323,\n '3007461_4': 324,\n 'Family history of aneurysm of artery': 325,\n 'levalbuterol Inhalation Solution': 326,\n 'Family history of fragile X syndrome': 327,\n '3006923_1': 328,\n '3028406_3': 329,\n '3020630_1': 330,\n '3028406_2': 331,\n 'Low birth weight infant': 332,\n 'IMMUNOGLOBULINS': 333,\n '3007461_3': 334,\n 'HYPNOTICS AND SEDATIVES': 335,\n '3000963_3': 336,\n 'ANTIGLAUCOMA PREPARATIONS AND MIOTICS': 337,\n 'Recent weight loss': 338,\n 'ANTIINFLAMMATORY/ANTIRHEUMATIC AGENTS IN COMBINATION': 339,\n 'OTHER DIAGNOSTIC AGENTS': 340,\n 'ANTITHROMBOTIC AGENTS': 341,\n 'Chronic kidney disease due to hypertension': 342,\n '3024561_4': 343,\n 'Abnormal weight gain': 344,\n '3043111_1': 345,\n '3013115_1': 346,\n '3035995_4': 347,\n '3020416_4': 348,\n '40762638_2': 349,\n '3015632_0': 350,\n 'NASAL DECONGESTANTS FOR SYSTEMIC USE': 351,\n '3010910_4': 352,\n '3024561_1': 353,\n '3006923_0': 354,\n '3019069_2': 355,\n '3009542_0': 356,\n '3017732_2': 357,\n '3017354_1': 358,\n '3022174_0': 359,\n 'Family history of kidney disease': 360,\n 'ANTIARRHYTHMICS, CLASS I AND III': 361,\n '3019550_3': 362,\n 'CORTICOSTEROIDS AND ANTIINFECTIVES IN COMBINATION': 363,\n '3024629_4': 364,\n '3037577_4': 365,\n '40762638_0': 366,\n '3022621_1': 367,\n '3020951_3': 368,\n '3049383_4': 369,\n 'Pure hypercholesterolemia': 370,\n 'Family history of genetic disorder carrier': 371,\n '3020630_3': 372,\n 'Prehypertension': 373,\n 'OTHER ANTIBACTERIALS': 374,\n '3024629_2': 375,\n '3020891_3': 376,\n 'Family history of stroke': 377,\n 'Body mass index 30+ - obesity': 378,\n '3024731_1': 379,\n '2000000043_2': 380,\n '3013682_1': 381,\n 'Hypothalamic hypothyroidism': 382,\n '3024561_0': 383,\n '3015632_1': 384,\n 'Essential hypertension': 385,\n '3045424_3': 386,\n '3017732_3': 387,\n '3024128_3': 388,\n 'Family history of Hashimoto thyroiditis': 389,\n 'OTHER DERMATOLOGICAL PREPARATIONS': 390,\n 'AMINOGLYCOSIDE ANTIBACTERIALS': 391,\n '3024171_0': 392,\n '3000330_2': 393,\n 'Child weight centiles - finding': 394,\n 'FH: Thrombosis': 395,\n 'FH: Cardiovascular disease': 396,\n 'Cholelithiasis with obstruction': 397,\n '3031147_0': 398,\n 'Baby birth weight 2.0-2.5kg': 399,\n '3022640_0': 400,\n 'CORTICOSTEROIDS, PLAIN': 401,\n '3031147_1': 402,\n '3000963_2': 403,\n 'FH: Hypothyroidism': 404,\n '3015632_3': 405,\n '3015632_4': 406,\n 'High hemoglobin A1c level': 407,\n '40762499_3': 408,\n '3006923_3': 409,\n 'Family history of chronic renal impairment': 410,\n '3009542_3': 411,\n '3019550_1': 412,\n '3014576_1': 413,\n '3012888_3': 414,\n 'Family history of attention deficit hyperactivity disorder': 415,\n '0.0': 416,\n '3016723_0': 417,\n '3024171_1': 418,\n 'Family history of neurological disorder': 419,\n 'ANTIVARICOSE THERAPY': 420,\n 'IRRIGATING SOLUTIONS': 421,\n '3009744_4': 422,\n 'INTESTINAL ANTIINFECTIVES': 423,\n '3024561_2': 424,\n '3045424_0': 425,\n '3013682_0': 426,\n 'Gastroesophageal reflux disease': 427,\n '40762499_2': 428,\n 'Extremely low birth weight infant': 429,\n '3001604_0': 430,\n 'Normal': 431,\n '3019198_1': 432,\n 'simethicone Oral Suspension': 433,\n 'Difficulty weight-bearing': 434,\n 'Excessive weight gain': 435,\n '3010910_1': 436,\n 'Family history of thromboembolic disorder': 437,\n '3016723_4': 438,\n '3020630_0': 439,\n 'Childhood obesity': 440,\n '3007950_1': 441,\n 'ANTIINFLAMMATORY AGENTS AND ANTIINFECTIVES IN COMBINATION': 442,\n '2000000043_4': 443,\n 'Developmental delay': 444,\n '2000000043_0': 445,\n '3020416_0': 446,\n 'gadopentetate dimeglumine Prefilled Syringe': 447,\n 'Abnormal weight loss': 448,\n '3006906_4': 449,\n '3037577_2': 450,\n '3001604_2': 451,\n '3027018_3': 452,\n 'ANTIHISTAMINES FOR SYSTEMIC USE': 453,\n '3010813_2': 454,\n '3010910_2': 455,\n 'Family history of Marfan syndrome': 456,\n 'BMIp_Change_0': 457,\n 'Overweight in childhood': 458,\n 'Constipation alternates with diarrhea': 459,\n 'ANTIFUNGALS FOR TOPICAL USE': 460,\n '3004501_3': 461,\n 'OTHER OTOLOGICALS': 462,\n 'STOMATOLOGICAL PREPARATIONS': 463,\n 'ANTISEPTICS AND DISINFECTANTS': 464,\n '3017354_0': 465,\n 'FH: Muscular dystrophy': 466,\n '3017354_4': 467,\n 'Family history of cardiac arrhythmia': 468,\n 'sodium chloride 0.111 MEQ/ML Nasal Spray [Saline Spray]': 469,\n '3020416_3': 470,\n 'Family history of intellectual disability': 471,\n 'Developmental delay in fine motor function': 472,\n 'Malignant essential hypertension': 473,\n 'Family history of coronary arteriosclerosis': 474,\n 'Anxiety disorder of childhood': 475,\n '3006906_2': 476,\n '3007461_2': 477,\n '3027018_4': 478,\n 'sodium chloride Nasal Solution': 479,\n '3020891_1': 480,\n 'OTHER ANALGESICS AND ANTIPYRETICS': 481,\n '3023103_3': 482,\n '3001604_3': 483,\n '3007950_2': 484,\n '3020951_2': 485,\n '3022174_4': 486,\n 'ANXIOLYTICS': 487,\n '3020951_0': 488,\n 'NI': 0}"
     },
     "execution_count": 10,
     "metadata": {},
     "output_type": "execute_result"
    }
   ],
   "source": [
    "featVocab"
   ],
   "metadata": {
    "collapsed": false,
    "ExecuteTime": {
     "end_time": "2023-12-02T04:39:19.391878553Z",
     "start_time": "2023-12-02T04:39:19.387064417Z"
    }
   },
   "id": "5e5a039814259b3a"
  },
  {
   "cell_type": "code",
   "execution_count": 11,
   "outputs": [],
   "source": [
    "with open('./data/vocab/measVocab', 'rb') as f:\n",
    "    measVocab = pickle.load(f)"
   ],
   "metadata": {
    "collapsed": false,
    "ExecuteTime": {
     "end_time": "2023-12-02T04:40:45.060048263Z",
     "start_time": "2023-12-02T04:40:45.012565172Z"
    }
   },
   "id": "dfa99c5757857710"
  },
  {
   "cell_type": "code",
   "execution_count": 12,
   "outputs": [
    {
     "data": {
      "text/plain": "{3001537: 'Head Occipital-frontal circumference by Tape measure',\n 3013762: 'Body weight Measured',\n 3023540: 'Body height Measured',\n 3038553: 'Body mass index (BMI) [Ratio]',\n 40762638: 'Body mass index (BMI) [Percentile] Per age and gender',\n 2000000043: 'BMI for age z score NHANES 2000',\n 3014576: 'Chloride [Moles/volume] in Serum or Plasma',\n 3015632: 'Carbon dioxide, total [Moles/volume] in Serum or Plasma',\n 3019550: 'Sodium [Moles/volume] in Serum or Plasma',\n 3023103: 'Potassium [Moles/volume] in Serum or Plasma',\n 3027018: 'Heart rate',\n 40762499: 'Oxygen saturation in Arterial blood by Pulse oximetry',\n 3009542: 'Hematocrit [Volume Fraction] of Blood',\n 3009744: 'MCHC [Mass/volume] by Automated count',\n 3010813: 'Leukocytes [#/volume] in Blood',\n 3010910: 'Erythrocytes [#/volume] in Body fluid',\n 3012030: 'MCH [Entitic mass] by Automated count',\n 3017354: 'Segmented neutrophils/100 leukocytes in Blood',\n 3019069: 'Monocytes/100 leukocytes in Blood',\n 3020416: 'Erythrocytes [#/volume] in Blood by Automated count',\n 3020630: 'Protein [Mass/volume] in Serum or Plasma',\n 3020951: 'Lymphocytes/100 leukocytes in Cerebral spinal fluid',\n 3022174: 'Leukocytes [#/volume] in Body fluid',\n 3022621: 'pH of Urine by Test strip',\n 3022640: 'Eosinophils/100 leukocytes in Cerebral spinal fluid',\n 3024128: 'Bilirubin.total [Mass/volume] in Serum or Plasma',\n 3024561: 'Albumin [Mass/volume] in Serum or Plasma',\n 3024731: 'MCV [Entitic volume]',\n 3035995: 'Alkaline phosphatase [Enzymatic activity/volume] in Serum or Plasma',\n 3037577: 'Monocytes/100 leukocytes in Cerebral spinal fluid',\n 3049383: 'Erythrocyte distribution width [Ratio] in Cord blood',\n 3000330: 'Specific gravity of Urine by Test strip',\n 3000963: 'Hemoglobin [Mass/volume] in Blood',\n 3002030: 'Lymphocytes/100 leukocytes in Blood',\n 3006906: 'Calcium [Mass/volume] in Serum or Plasma',\n 3006923: 'Alanine aminotransferase [Enzymatic activity/volume] in Serum or Plasma',\n 3007461: 'Platelets [#/volume] in Blood',\n 3024171: 'Respiratory rate',\n 3007950: 'Urobilinogen [Mass/volume] in Urine',\n 3020891: 'Body temperature',\n 3004249: 'Systolic blood pressure',\n 3012888: 'Diastolic blood pressure',\n 3001604: 'Monocytes [#/volume] in Blood',\n 3017732: 'Neutrophils [#/volume] in Blood',\n 3019198: 'Lymphocytes [#/volume] in Blood',\n 3043111: 'Platelet mean volume [Entitic volume] in Blood by Automated count',\n 3045424: 'Erythrocytes [Presence] in Urine',\n 3028406: 'Lead [Mass/volume] in Capillary blood',\n 3024629: 'Glucose [Mass/volume] in Urine by Test strip',\n 3004501: 'Glucose [Mass/volume] in Serum or Plasma',\n 3006315: 'Basophils [#/volume] in Blood',\n 3006504: 'Eosinophils/100 leukocytes in Blood',\n 3013115: 'Eosinophils [#/volume] in Blood',\n 3013682: 'Urea nitrogen [Mass/volume] in Serum or Plasma',\n 3016723: 'Creatinine [Mass/volume] in Serum or Plasma',\n 3031147: 'Carbon dioxide, total [Moles/volume] in Blood by calculation'}"
     },
     "execution_count": 12,
     "metadata": {},
     "output_type": "execute_result"
    }
   ],
   "source": [
    "measVocab"
   ],
   "metadata": {
    "collapsed": false,
    "ExecuteTime": {
     "end_time": "2023-12-02T04:40:45.283032343Z",
     "start_time": "2023-12-02T04:40:45.276122514Z"
    }
   },
   "id": "3b5639f44cd8d110"
  },
  {
   "cell_type": "code",
   "execution_count": null,
   "outputs": [],
   "source": [],
   "metadata": {
    "collapsed": false
   },
   "id": "89310b81717099b2"
  },
  {
   "cell_type": "code",
   "execution_count": null,
   "outputs": [],
   "source": [],
   "metadata": {
    "collapsed": false
   },
   "id": "854ec458609ee2d7"
  },
  {
   "cell_type": "code",
   "execution_count": null,
   "outputs": [],
   "source": [],
   "metadata": {
    "collapsed": false
   },
   "id": "c360eaac7c358535"
  },
  {
   "cell_type": "code",
   "execution_count": 2,
   "outputs": [],
   "source": [
    "import pandas as pd\n",
    "\n",
    "df = pd.read_csv('../h/dec.csv')"
   ],
   "metadata": {
    "collapsed": false,
    "ExecuteTime": {
     "end_time": "2023-12-02T19:52:28.321959190Z",
     "start_time": "2023-12-02T19:52:28.305726355Z"
    }
   },
   "id": "2381f3c2fba06e48"
  },
  {
   "cell_type": "code",
   "execution_count": 4,
   "outputs": [],
   "source": [
    "l = df.columns.tolist()"
   ],
   "metadata": {
    "collapsed": false,
    "ExecuteTime": {
     "end_time": "2023-12-02T19:56:27.429598709Z",
     "start_time": "2023-12-02T19:56:27.415040187Z"
    }
   },
   "id": "e6da835fc15d508f"
  },
  {
   "cell_type": "code",
   "execution_count": 6,
   "outputs": [],
   "source": [
    "import pickle\n",
    "with open(\"featList\", \"wb\") as fp:   #Pickling\n",
    "    pickle.dump(l, fp)"
   ],
   "metadata": {
    "collapsed": false,
    "ExecuteTime": {
     "end_time": "2023-12-02T19:57:00.743842404Z",
     "start_time": "2023-12-02T19:57:00.732163477Z"
    }
   },
   "id": "c1b0cebdd444e6a5"
  },
  {
   "cell_type": "code",
   "execution_count": 7,
   "outputs": [],
   "source": [
    "with open(\"featList\", \"rb\") as fp:   # Unpickling\n",
    "    b = pickle.load(fp)"
   ],
   "metadata": {
    "collapsed": false,
    "ExecuteTime": {
     "end_time": "2023-12-02T20:06:22.290259535Z",
     "start_time": "2023-12-02T20:06:22.277185605Z"
    }
   },
   "id": "4061bb6a53ea4cb1"
  },
  {
   "cell_type": "code",
   "execution_count": 8,
   "outputs": [
    {
     "data": {
      "text/plain": "['person_id',\n 'age_dict',\n 'Abnormal weight gain',\n 'Abnormal weight loss',\n 'Acanthosis nigricans',\n 'Anxiety',\n 'Anxiety about body function or health',\n 'Anxiety disorder',\n 'Anxiety disorder of childhood',\n 'Anxiety disorder of childhood OR adolescence',\n 'Asthma',\n 'Asthma-chronic obstructive pulmonary disease overlap syndrome',\n 'Asthmatic bronchitis',\n 'Baby birth weight 2.0-2.5kg',\n 'Binge eating disorder',\n 'Body mass index 30+ - obesity',\n 'Child weight centiles - finding',\n 'Childhood failure to gain weight',\n 'Childhood obesity',\n 'Cholelithiasis with obstruction',\n 'Chronic kidney disease due to hypertension',\n 'Chronic kidney disease stage 3 due to hypertension',\n 'Chronic kidney disease stage 5 due to hypertension',\n 'Constipation',\n 'Constipation alternates with diarrhea',\n 'Developmental delay',\n 'Developmental delay in fine motor function',\n 'Developmental delay in receptive-expressive language',\n 'Diabetes mellitus',\n 'Diabetes mellitus associated with pancreatic disease',\n 'Diastolic hypertension',\n 'Elevated blood pressure',\n 'Elevated liver enzymes level',\n 'Essential hypertension',\n 'Excessive weight gain',\n 'Extreme obesity with alveolar hypoventilation',\n 'Extremely low birth weight infant',\n 'FH: Cardiac disorder',\n 'FH: Cardiomyopathy',\n 'FH: Cardiovascular disease',\n 'FH: Chromosomal anomaly',\n 'FH: Diabetes mellitus',\n 'FH: Drug dependency',\n 'FH: Gastrointestinal disease',\n 'FH: Hypercholesterolemia',\n 'FH: Muscular dystrophy',\n 'FH: Myocardial infarction',\n 'FH: Obesity',\n 'FH: Obstetric problem',\n 'FH: Thyroid disorder',\n 'Failure to gain weight',\n 'Family history of Marfan syndrome',\n 'Family history of Von Willebrand disease',\n 'Family history of alcoholism',\n 'Family history of aneurysm of artery',\n 'Family history of asthma',\n 'Family history of attention deficit hyperactivity disorder',\n 'Family history of autism',\n 'Family history of autism in sibling',\n 'Family history of blood coagulation disorder',\n 'Family history of conduction disorder of the heart',\n 'Family history of consanguinity',\n 'Family history of coronary arteriosclerosis',\n 'Family history of development disorder',\n 'Family history of diabetes mellitus type 1',\n 'Family history of genetic disorder carrier',\n 'Family history of heart failure',\n 'Family history of hyperlipidemia',\n 'Family history of ischemic heart disease',\n 'Family history of kidney disease',\n 'Family history of learning disability',\n 'Family history of malignant neoplasm of thyroid',\n 'Family history of mental disorder',\n 'Family history of neurological disorder',\n 'Family history of polycystic ovary syndrome',\n 'Family history of problem behavior',\n 'Family history of sudden cardiac death',\n 'Gastroesophageal reflux disease',\n 'Gastroesophageal reflux in child',\n 'H/O: hypertension',\n 'High hemoglobin A1c level',\n 'Hypothalamic hypothyroidism',\n 'Hypothalamic overactivity',\n 'Hypothalamic syndrome',\n 'Hypothyroidism',\n 'Hypothyroidism caused by drug',\n \"Hypothyroidism due to Hashimoto's thyroiditis\",\n 'Low birth weight infant',\n 'Malignant essential hypertension',\n 'Malignant hypertension',\n 'Mixed hypercholesterolemia and hypertriglyceridemia',\n 'Morbid obesity',\n 'Obesity',\n 'Obstructive sleep apnea syndrome',\n 'Overweight',\n 'Overweight in childhood',\n 'Precocious puberty',\n 'Prediabetes',\n 'Prehypertension',\n 'Primary hypertriglyceridemia',\n 'Pure hypercholesterolemia',\n 'Recent weight loss',\n 'Secondary hypertension',\n 'Severe obesity',\n 'Simple obesity',\n 'Slow weight gain',\n 'Systolic hypertension',\n 'Transient hypertension',\n 'Unable to weight-bear',\n 'Underweight',\n 'Unintentional weight loss',\n 'Very low birth weight infant',\n '2000000043',\n '3000330',\n '3000963',\n '3001604',\n '3002030',\n '3004249',\n '3004501',\n '3006315',\n '3006504',\n '3006906',\n '3006923',\n '3007461',\n '3007950',\n '3009542',\n '3009744',\n '3010813',\n '3010910',\n '3012030',\n '3012888',\n '3013115',\n '3013682',\n '3014576',\n '3015632',\n '3016723',\n '3017354',\n '3017732',\n '3019069',\n '3019198',\n '3019550',\n '3020416',\n '3020630',\n '3020891',\n '3020951',\n '3022174',\n '3022621',\n '3022640',\n '3023103',\n '3024128',\n '3024171',\n '3024561',\n '3024629',\n '3024731',\n '3027018',\n '3028406',\n '3031147',\n '3035995',\n '3037577',\n '3038553',\n '3043111',\n '3045424',\n '3049383',\n '40762499',\n '40762638',\n 'ADRENERGICS FOR SYSTEMIC USE',\n 'ADRENERGICS, INHALANTS',\n 'AGENTS FOR TREATMENT OF HEMORRHOIDS AND ANAL FISSURES FOR TOPICAL USE',\n 'AMINOGLYCOSIDE ANTIBACTERIALS',\n 'ANESTHETICS, GENERAL',\n 'ANESTHETICS, LOCAL',\n 'ANTACIDS',\n 'ANTIARRHYTHMICS, CLASS I AND III',\n 'ANTIBIOTICS FOR TOPICAL USE',\n 'ANTIDIARRHEAL MICROORGANISMS',\n 'ANTIEMETICS AND ANTINAUSEANTS',\n 'ANTIEPILEPTICS',\n 'ANTIFUNGALS FOR SYSTEMIC USE',\n 'ANTIFUNGALS FOR TOPICAL USE',\n 'ANTIGLAUCOMA PREPARATIONS AND MIOTICS',\n 'ANTIHISTAMINES FOR SYSTEMIC USE',\n 'ANTIINFECTIVES',\n 'ANTIINFECTIVES AND ANTISEPTICS, EXCL. COMBINATIONS WITH CORTICOSTEROIDS',\n 'ANTIINFLAMMATORY AGENTS AND ANTIINFECTIVES IN COMBINATION',\n 'ANTIINFLAMMATORY AND ANTIRHEUMATIC PRODUCTS, NON-STEROIDS',\n 'ANTIINFLAMMATORY/ANTIRHEUMATIC AGENTS IN COMBINATION',\n 'ANTIMYCOTICS FOR SYSTEMIC USE',\n 'ANTIPRURITICS, INCL. ANTIHISTAMINES, ANESTHETICS, ETC.',\n 'ANTISEPTICS AND DISINFECTANTS',\n 'ANTISPASMODICS IN COMBINATION WITH PSYCHOLEPTICS',\n 'ANTITHROMBOTIC AGENTS',\n 'ANTIVARICOSE THERAPY',\n 'ANXIOLYTICS',\n 'BETA-LACTAM ANTIBACTERIALS, PENICILLINS',\n 'CARDIAC STIMULANTS EXCL. CARDIAC GLYCOSIDES',\n 'CHEMOTHERAPEUTICS FOR TOPICAL USE',\n 'CORTICOSTEROIDS AND ANTIINFECTIVES IN COMBINATION',\n 'CORTICOSTEROIDS FOR SYSTEMIC USE, PLAIN',\n 'CORTICOSTEROIDS, COMBINATIONS WITH ANTIBIOTICS',\n 'CORTICOSTEROIDS, OTHER COMBINATIONS',\n 'CORTICOSTEROIDS, PLAIN',\n 'DECONGESTANTS AND ANTIALLERGICS',\n 'DECONGESTANTS AND OTHER NASAL PREPARATIONS FOR TOPICAL USE',\n 'DIRECT ACTING ANTIVIRALS',\n 'DRUGS FOR CONSTIPATION',\n 'DRUGS FOR FUNCTIONAL GASTROINTESTINAL DISORDERS',\n 'DRUGS FOR PEPTIC ULCER AND GASTRO-OESOPHAGEAL REFLUX DISEASE (GORD)',\n 'Dextromethorphan Hydrobromide 3.13 MG/ML / Pseudoephedrine Hydrochloride 9.38 MG/ML Oral Solution [PediaCare Infant Decongestant & Cough]',\n 'ECTOPARASITICIDES, INCL. SCABICIDES',\n 'HIGH-CEILING DIURETICS',\n 'HYPNOTICS AND SEDATIVES',\n 'I.V. SOLUTION ADDITIVES',\n 'I.V. SOLUTIONS',\n 'IMMUNOGLOBULINS',\n 'INTESTINAL ANTIINFECTIVES',\n 'IRON PREPARATIONS',\n 'IRRIGATING SOLUTIONS',\n 'LIPID MODIFYING AGENTS, PLAIN',\n 'MACROLIDES, LINCOSAMIDES AND STREPTOGRAMINS',\n 'MUSCLE RELAXANTS, PERIPHERALLY ACTING AGENTS',\n 'NASAL DECONGESTANTS FOR SYSTEMIC USE',\n 'OPIOIDS',\n 'OTHER ANALGESICS AND ANTIPYRETICS',\n 'OTHER ANTIBACTERIALS',\n 'OTHER BETA-LACTAM ANTIBACTERIALS',\n 'OTHER DERMATOLOGICAL PREPARATIONS',\n 'OTHER DIAGNOSTIC AGENTS',\n 'OTHER DRUGS FOR OBSTRUCTIVE AIRWAY DISEASES, INHALANTS',\n 'OTHER MINERAL SUPPLEMENTS',\n 'OTHER NERVOUS SYSTEM DRUGS',\n 'OTHER OTOLOGICALS',\n 'OTHER SYSTEMIC DRUGS FOR OBSTRUCTIVE AIRWAY DISEASES',\n 'PARASYMPATHOMIMETICS',\n 'PROPULSIVES',\n 'STOMATOLOGICAL PREPARATIONS',\n 'SULFONAMIDES AND TRIMETHOPRIM',\n 'THROAT PREPARATIONS',\n 'UROLOGICALS',\n 'VITAMIN A AND D, INCL. COMBINATIONS OF THE TWO',\n 'VITAMIN B12 AND FOLIC ACID',\n 'VITAMIN K AND OTHER HEMOSTATICS',\n 'gadopentetate dimeglumine Prefilled Syringe',\n 'levalbuterol Inhalation Solution',\n 'petrolatum Topical Ointment',\n 'racepinephrine Inhalation Solution',\n 'simethicone Oral Suspension',\n 'sodium chloride 0.111 MEQ/ML Nasal Spray [Saline Spray]',\n 'sodium chloride Nasal Solution',\n 'sodium chloride Nasal Spray']"
     },
     "execution_count": 8,
     "metadata": {},
     "output_type": "execute_result"
    }
   ],
   "source": [
    "b\n"
   ],
   "metadata": {
    "collapsed": false,
    "ExecuteTime": {
     "end_time": "2023-12-02T20:06:26.250242323Z",
     "start_time": "2023-12-02T20:06:26.228673395Z"
    }
   },
   "id": "825e980f994c6443"
  },
  {
   "cell_type": "code",
   "execution_count": null,
   "outputs": [],
   "source": [],
   "metadata": {
    "collapsed": false
   },
   "id": "a889d822b69bbb68"
  }
 ],
 "metadata": {
  "kernelspec": {
   "display_name": "Python 3",
   "language": "python",
   "name": "python3"
  },
  "language_info": {
   "codemirror_mode": {
    "name": "ipython",
    "version": 2
   },
   "file_extension": ".py",
   "mimetype": "text/x-python",
   "name": "python",
   "nbconvert_exporter": "python",
   "pygments_lexer": "ipython2",
   "version": "2.7.6"
  }
 },
 "nbformat": 4,
 "nbformat_minor": 5
}
