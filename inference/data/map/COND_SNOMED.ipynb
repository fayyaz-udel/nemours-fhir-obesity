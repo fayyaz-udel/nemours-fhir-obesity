{
 "cells": [
  {
   "cell_type": "code",
   "execution_count": 10,
   "id": "initial_id",
   "metadata": {
    "collapsed": true,
    "ExecuteTime": {
     "end_time": "2023-12-03T23:26:27.516363030Z",
     "start_time": "2023-12-03T23:26:25.558514077Z"
    }
   },
   "outputs": [
    {
     "name": "stderr",
     "output_type": "stream",
     "text": [
      "/tmp/ipykernel_155295/4049339721.py:3: DtypeWarning: Columns (6,9) have mixed types. Specify dtype option on import or set low_memory=False.\n",
      "  df = pd.read_csv('CONCEPT_SNOMED.csv', delimiter='\\t')\n"
     ]
    },
    {
     "data": {
      "text/plain": "         concept_id                                    concept_name domain_id  \\\n0           1146945                              concept.concept_id  Metadata   \n1           1146954                          concept.invalid_reason  Metadata   \n2           1147044        observation_period.observation_period_id  Metadata   \n3            756315               metadata.metadata_type_concept_id  Metadata   \n4            756316                                   metadata.name  Metadata   \n...             ...                                             ...       ...   \n1262915       33091                                IQVIA CO-CONNECT  Metadata   \n1262916       33092                         IQVIA CO-CONNECT MIABIS  Metadata   \n1262917       33093                          IQVIA CO-CONNECT TWINS  Metadata   \n1262918       33095                             NHS Ethnic Category  Metadata   \n1262919       33096  NHS Admission Source and Discharge Destination  Metadata   \n\n        vocabulary_id concept_class_id standard_concept    concept_code  \\\n0                 CDM            Field                S            CDM1   \n1                 CDM            Field                S           CDM10   \n2                 CDM            Field                S          CDM100   \n3                 CDM            Field                S         CDM1000   \n4                 CDM            Field                S         CDM1001   \n...               ...              ...              ...             ...   \n1262915    Vocabulary       Vocabulary              NaN  OMOP generated   \n1262916    Vocabulary       Vocabulary              NaN  OMOP generated   \n1262917    Vocabulary       Vocabulary              NaN  OMOP generated   \n1262918    Vocabulary       Vocabulary              NaN  OMOP generated   \n1262919    Vocabulary       Vocabulary              NaN  OMOP generated   \n\n         valid_start_date  valid_end_date invalid_reason  \n0                20141111        20991231            NaN  \n1                20141111        20991231            NaN  \n2                20141111        20991231            NaN  \n3                20210925        20991231            NaN  \n4                20210925        20991231            NaN  \n...                   ...             ...            ...  \n1262915          19700101        20991231            NaN  \n1262916          19700101        20991231            NaN  \n1262917          19700101        20991231            NaN  \n1262918          19700101        20991231            NaN  \n1262919          19700101        20991231            NaN  \n\n[1262920 rows x 10 columns]",
      "text/html": "<div>\n<style scoped>\n    .dataframe tbody tr th:only-of-type {\n        vertical-align: middle;\n    }\n\n    .dataframe tbody tr th {\n        vertical-align: top;\n    }\n\n    .dataframe thead th {\n        text-align: right;\n    }\n</style>\n<table border=\"1\" class=\"dataframe\">\n  <thead>\n    <tr style=\"text-align: right;\">\n      <th></th>\n      <th>concept_id</th>\n      <th>concept_name</th>\n      <th>domain_id</th>\n      <th>vocabulary_id</th>\n      <th>concept_class_id</th>\n      <th>standard_concept</th>\n      <th>concept_code</th>\n      <th>valid_start_date</th>\n      <th>valid_end_date</th>\n      <th>invalid_reason</th>\n    </tr>\n  </thead>\n  <tbody>\n    <tr>\n      <th>0</th>\n      <td>1146945</td>\n      <td>concept.concept_id</td>\n      <td>Metadata</td>\n      <td>CDM</td>\n      <td>Field</td>\n      <td>S</td>\n      <td>CDM1</td>\n      <td>20141111</td>\n      <td>20991231</td>\n      <td>NaN</td>\n    </tr>\n    <tr>\n      <th>1</th>\n      <td>1146954</td>\n      <td>concept.invalid_reason</td>\n      <td>Metadata</td>\n      <td>CDM</td>\n      <td>Field</td>\n      <td>S</td>\n      <td>CDM10</td>\n      <td>20141111</td>\n      <td>20991231</td>\n      <td>NaN</td>\n    </tr>\n    <tr>\n      <th>2</th>\n      <td>1147044</td>\n      <td>observation_period.observation_period_id</td>\n      <td>Metadata</td>\n      <td>CDM</td>\n      <td>Field</td>\n      <td>S</td>\n      <td>CDM100</td>\n      <td>20141111</td>\n      <td>20991231</td>\n      <td>NaN</td>\n    </tr>\n    <tr>\n      <th>3</th>\n      <td>756315</td>\n      <td>metadata.metadata_type_concept_id</td>\n      <td>Metadata</td>\n      <td>CDM</td>\n      <td>Field</td>\n      <td>S</td>\n      <td>CDM1000</td>\n      <td>20210925</td>\n      <td>20991231</td>\n      <td>NaN</td>\n    </tr>\n    <tr>\n      <th>4</th>\n      <td>756316</td>\n      <td>metadata.name</td>\n      <td>Metadata</td>\n      <td>CDM</td>\n      <td>Field</td>\n      <td>S</td>\n      <td>CDM1001</td>\n      <td>20210925</td>\n      <td>20991231</td>\n      <td>NaN</td>\n    </tr>\n    <tr>\n      <th>...</th>\n      <td>...</td>\n      <td>...</td>\n      <td>...</td>\n      <td>...</td>\n      <td>...</td>\n      <td>...</td>\n      <td>...</td>\n      <td>...</td>\n      <td>...</td>\n      <td>...</td>\n    </tr>\n    <tr>\n      <th>1262915</th>\n      <td>33091</td>\n      <td>IQVIA CO-CONNECT</td>\n      <td>Metadata</td>\n      <td>Vocabulary</td>\n      <td>Vocabulary</td>\n      <td>NaN</td>\n      <td>OMOP generated</td>\n      <td>19700101</td>\n      <td>20991231</td>\n      <td>NaN</td>\n    </tr>\n    <tr>\n      <th>1262916</th>\n      <td>33092</td>\n      <td>IQVIA CO-CONNECT MIABIS</td>\n      <td>Metadata</td>\n      <td>Vocabulary</td>\n      <td>Vocabulary</td>\n      <td>NaN</td>\n      <td>OMOP generated</td>\n      <td>19700101</td>\n      <td>20991231</td>\n      <td>NaN</td>\n    </tr>\n    <tr>\n      <th>1262917</th>\n      <td>33093</td>\n      <td>IQVIA CO-CONNECT TWINS</td>\n      <td>Metadata</td>\n      <td>Vocabulary</td>\n      <td>Vocabulary</td>\n      <td>NaN</td>\n      <td>OMOP generated</td>\n      <td>19700101</td>\n      <td>20991231</td>\n      <td>NaN</td>\n    </tr>\n    <tr>\n      <th>1262918</th>\n      <td>33095</td>\n      <td>NHS Ethnic Category</td>\n      <td>Metadata</td>\n      <td>Vocabulary</td>\n      <td>Vocabulary</td>\n      <td>NaN</td>\n      <td>OMOP generated</td>\n      <td>19700101</td>\n      <td>20991231</td>\n      <td>NaN</td>\n    </tr>\n    <tr>\n      <th>1262919</th>\n      <td>33096</td>\n      <td>NHS Admission Source and Discharge Destination</td>\n      <td>Metadata</td>\n      <td>Vocabulary</td>\n      <td>Vocabulary</td>\n      <td>NaN</td>\n      <td>OMOP generated</td>\n      <td>19700101</td>\n      <td>20991231</td>\n      <td>NaN</td>\n    </tr>\n  </tbody>\n</table>\n<p>1262920 rows × 10 columns</p>\n</div>"
     },
     "execution_count": 10,
     "metadata": {},
     "output_type": "execute_result"
    }
   ],
   "source": [
    "import pandas as pd\n",
    "\n",
    "df = pd.read_csv('CONCEPT_SNOMED.csv', delimiter='\\t')\n",
    "df\n"
   ]
  },
  {
   "cell_type": "code",
   "execution_count": 16,
   "outputs": [],
   "source": [
    "cols_name = pd.read_csv('../h/dec.csv').columns.tolist()"
   ],
   "metadata": {
    "collapsed": false,
    "ExecuteTime": {
     "end_time": "2023-12-03T23:29:47.241679216Z",
     "start_time": "2023-12-03T23:29:47.188724935Z"
    }
   },
   "id": "97e7ebc08777bdc5"
  },
  {
   "cell_type": "code",
   "execution_count": 18,
   "outputs": [],
   "source": [
    "df[df['concept_name'].isin(cols_name)].to_csv('CONCEPT_SNOMED_REDUCED.csv', index=False, sep='\\t')"
   ],
   "metadata": {
    "collapsed": false,
    "ExecuteTime": {
     "end_time": "2023-12-03T23:34:06.079079949Z",
     "start_time": "2023-12-03T23:34:06.074611859Z"
    }
   },
   "id": "25f422d2461af855"
  },
  {
   "cell_type": "code",
   "execution_count": 19,
   "outputs": [],
   "source": [
    "df = pd.read_csv('CONCEPT_SNOMED_REDUCED.csv', delimiter='\\t')"
   ],
   "metadata": {
    "collapsed": false,
    "ExecuteTime": {
     "end_time": "2023-12-03T23:34:15.973489857Z",
     "start_time": "2023-12-03T23:34:15.944817082Z"
    }
   },
   "id": "3d1edcceb811ee50"
  },
  {
   "cell_type": "code",
   "execution_count": 20,
   "outputs": [
    {
     "data": {
      "text/plain": "     concept_id                                       concept_name  \\\n0      44782429         Chronic kidney disease due to hypertension   \n1      46274062  Asthma-chronic obstructive pulmonary disease o...   \n2      46269913       Family history of blood coagulation disorder   \n3        433178       Anxiety disorder of childhood OR adolescence   \n4      36712768                   Gastroesophageal reflux in child   \n..          ...                                                ...   \n162    37018860                                     Severe obesity   \n163     3574595                                  Childhood obesity   \n164     3574596                                  Childhood obesity   \n165     3547213  Asthma-chronic obstructive pulmonary disease o...   \n166     3547214  Asthma-chronic obstructive pulmonary disease o...   \n\n       domain_id vocabulary_id   concept_class_id standard_concept  \\\n0      Condition        SNOMED   Clinical Finding                S   \n1      Condition        SNOMED   Clinical Finding                S   \n2    Observation        SNOMED  Context-dependent                S   \n3      Condition        SNOMED   Clinical Finding                S   \n4      Condition        SNOMED   Clinical Finding                S   \n..           ...           ...                ...              ...   \n162    Condition        SNOMED   Clinical Finding                S   \n163    Condition        SNOMED   Clinical Finding              NaN   \n164  Observation        SNOMED          Undefined              NaN   \n165    Condition        SNOMED   Clinical Finding              NaN   \n166  Observation        SNOMED          Undefined              NaN   \n\n          concept_code  valid_start_date  valid_end_date invalid_reason  \n0      104931000119100          20140131        20991231            NaN  \n1    10692761000119107          20150731        20991231            NaN  \n2      108801000119109          20150731        20991231            NaN  \n3               109006          20020131        20991231            NaN  \n4    10999201000119106          20170131        20991231            NaN  \n..                 ...               ...             ...            ...  \n162     83911000119104          20160131        20991231            NaN  \n163    863601000000103          19700101        20130401              U  \n164    863611000000101          19700101        20130401              U  \n165    944961000000107          20150401        20151001              U  \n166    944971000000100          19700101        20150401              U  \n\n[167 rows x 10 columns]",
      "text/html": "<div>\n<style scoped>\n    .dataframe tbody tr th:only-of-type {\n        vertical-align: middle;\n    }\n\n    .dataframe tbody tr th {\n        vertical-align: top;\n    }\n\n    .dataframe thead th {\n        text-align: right;\n    }\n</style>\n<table border=\"1\" class=\"dataframe\">\n  <thead>\n    <tr style=\"text-align: right;\">\n      <th></th>\n      <th>concept_id</th>\n      <th>concept_name</th>\n      <th>domain_id</th>\n      <th>vocabulary_id</th>\n      <th>concept_class_id</th>\n      <th>standard_concept</th>\n      <th>concept_code</th>\n      <th>valid_start_date</th>\n      <th>valid_end_date</th>\n      <th>invalid_reason</th>\n    </tr>\n  </thead>\n  <tbody>\n    <tr>\n      <th>0</th>\n      <td>44782429</td>\n      <td>Chronic kidney disease due to hypertension</td>\n      <td>Condition</td>\n      <td>SNOMED</td>\n      <td>Clinical Finding</td>\n      <td>S</td>\n      <td>104931000119100</td>\n      <td>20140131</td>\n      <td>20991231</td>\n      <td>NaN</td>\n    </tr>\n    <tr>\n      <th>1</th>\n      <td>46274062</td>\n      <td>Asthma-chronic obstructive pulmonary disease o...</td>\n      <td>Condition</td>\n      <td>SNOMED</td>\n      <td>Clinical Finding</td>\n      <td>S</td>\n      <td>10692761000119107</td>\n      <td>20150731</td>\n      <td>20991231</td>\n      <td>NaN</td>\n    </tr>\n    <tr>\n      <th>2</th>\n      <td>46269913</td>\n      <td>Family history of blood coagulation disorder</td>\n      <td>Observation</td>\n      <td>SNOMED</td>\n      <td>Context-dependent</td>\n      <td>S</td>\n      <td>108801000119109</td>\n      <td>20150731</td>\n      <td>20991231</td>\n      <td>NaN</td>\n    </tr>\n    <tr>\n      <th>3</th>\n      <td>433178</td>\n      <td>Anxiety disorder of childhood OR adolescence</td>\n      <td>Condition</td>\n      <td>SNOMED</td>\n      <td>Clinical Finding</td>\n      <td>S</td>\n      <td>109006</td>\n      <td>20020131</td>\n      <td>20991231</td>\n      <td>NaN</td>\n    </tr>\n    <tr>\n      <th>4</th>\n      <td>36712768</td>\n      <td>Gastroesophageal reflux in child</td>\n      <td>Condition</td>\n      <td>SNOMED</td>\n      <td>Clinical Finding</td>\n      <td>S</td>\n      <td>10999201000119106</td>\n      <td>20170131</td>\n      <td>20991231</td>\n      <td>NaN</td>\n    </tr>\n    <tr>\n      <th>...</th>\n      <td>...</td>\n      <td>...</td>\n      <td>...</td>\n      <td>...</td>\n      <td>...</td>\n      <td>...</td>\n      <td>...</td>\n      <td>...</td>\n      <td>...</td>\n      <td>...</td>\n    </tr>\n    <tr>\n      <th>162</th>\n      <td>37018860</td>\n      <td>Severe obesity</td>\n      <td>Condition</td>\n      <td>SNOMED</td>\n      <td>Clinical Finding</td>\n      <td>S</td>\n      <td>83911000119104</td>\n      <td>20160131</td>\n      <td>20991231</td>\n      <td>NaN</td>\n    </tr>\n    <tr>\n      <th>163</th>\n      <td>3574595</td>\n      <td>Childhood obesity</td>\n      <td>Condition</td>\n      <td>SNOMED</td>\n      <td>Clinical Finding</td>\n      <td>NaN</td>\n      <td>863601000000103</td>\n      <td>19700101</td>\n      <td>20130401</td>\n      <td>U</td>\n    </tr>\n    <tr>\n      <th>164</th>\n      <td>3574596</td>\n      <td>Childhood obesity</td>\n      <td>Observation</td>\n      <td>SNOMED</td>\n      <td>Undefined</td>\n      <td>NaN</td>\n      <td>863611000000101</td>\n      <td>19700101</td>\n      <td>20130401</td>\n      <td>U</td>\n    </tr>\n    <tr>\n      <th>165</th>\n      <td>3547213</td>\n      <td>Asthma-chronic obstructive pulmonary disease o...</td>\n      <td>Condition</td>\n      <td>SNOMED</td>\n      <td>Clinical Finding</td>\n      <td>NaN</td>\n      <td>944961000000107</td>\n      <td>20150401</td>\n      <td>20151001</td>\n      <td>U</td>\n    </tr>\n    <tr>\n      <th>166</th>\n      <td>3547214</td>\n      <td>Asthma-chronic obstructive pulmonary disease o...</td>\n      <td>Observation</td>\n      <td>SNOMED</td>\n      <td>Undefined</td>\n      <td>NaN</td>\n      <td>944971000000100</td>\n      <td>19700101</td>\n      <td>20150401</td>\n      <td>U</td>\n    </tr>\n  </tbody>\n</table>\n<p>167 rows × 10 columns</p>\n</div>"
     },
     "execution_count": 20,
     "metadata": {},
     "output_type": "execute_result"
    }
   ],
   "source": [
    "df"
   ],
   "metadata": {
    "collapsed": false,
    "ExecuteTime": {
     "end_time": "2023-12-03T23:34:19.053515158Z",
     "start_time": "2023-12-03T23:34:19.037394782Z"
    }
   },
   "id": "4716ec22a51af834"
  },
  {
   "cell_type": "code",
   "execution_count": 21,
   "outputs": [],
   "source": [
    "import pickle\n",
    "with open(\"snomed2desc_feat\", \"wb\") as fp:   #Pickling\n",
    "    pickle.dump(dict(zip(df.concept_code.astype(str), df['concept_name'].astype(str))), fp)\n"
   ],
   "metadata": {
    "collapsed": false,
    "ExecuteTime": {
     "end_time": "2023-12-03T23:41:25.565806563Z",
     "start_time": "2023-12-03T23:41:25.555326191Z"
    }
   },
   "id": "be5523236baaa6f1"
  },
  {
   "cell_type": "code",
   "execution_count": null,
   "outputs": [],
   "source": [],
   "metadata": {
    "collapsed": false
   },
   "id": "6ee110eca3588300"
  }
 ],
 "metadata": {
  "kernelspec": {
   "display_name": "Python 3",
   "language": "python",
   "name": "python3"
  },
  "language_info": {
   "codemirror_mode": {
    "name": "ipython",
    "version": 2
   },
   "file_extension": ".py",
   "mimetype": "text/x-python",
   "name": "python",
   "nbconvert_exporter": "python",
   "pygments_lexer": "ipython2",
   "version": "2.7.6"
  }
 },
 "nbformat": 4,
 "nbformat_minor": 5
}
