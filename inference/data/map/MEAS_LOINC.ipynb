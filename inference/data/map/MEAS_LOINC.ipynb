{
 "cells": [
  {
   "cell_type": "code",
   "execution_count": 10,
   "id": "initial_id",
   "metadata": {
    "collapsed": true,
    "ExecuteTime": {
     "end_time": "2023-12-04T01:45:26.758495830Z",
     "start_time": "2023-12-04T01:45:25.981037410Z"
    }
   },
   "outputs": [
    {
     "name": "stderr",
     "output_type": "stream",
     "text": [
      "/tmp/ipykernel_159819/1503851492.py:3: DtypeWarning: Columns (6,9) have mixed types. Specify dtype option on import or set low_memory=False.\n",
      "  df = pd.read_csv('CONCEPT_LOINC.csv', delimiter='\\t')\n"
     ]
    },
    {
     "data": {
      "text/plain": "        concept_id                                    concept_name domain_id  \\\n0          1146945                              concept.concept_id  Metadata   \n1          1146954                          concept.invalid_reason  Metadata   \n2          1147044        observation_period.observation_period_id  Metadata   \n3           756315               metadata.metadata_type_concept_id  Metadata   \n4           756316                                   metadata.name  Metadata   \n...            ...                                             ...       ...   \n477457       33091                                IQVIA CO-CONNECT  Metadata   \n477458       33092                         IQVIA CO-CONNECT MIABIS  Metadata   \n477459       33093                          IQVIA CO-CONNECT TWINS  Metadata   \n477460       33095                             NHS Ethnic Category  Metadata   \n477461       33096  NHS Admission Source and Discharge Destination  Metadata   \n\n       vocabulary_id concept_class_id standard_concept    concept_code  \\\n0                CDM            Field                S            CDM1   \n1                CDM            Field                S           CDM10   \n2                CDM            Field                S          CDM100   \n3                CDM            Field                S         CDM1000   \n4                CDM            Field                S         CDM1001   \n...              ...              ...              ...             ...   \n477457    Vocabulary       Vocabulary              NaN  OMOP generated   \n477458    Vocabulary       Vocabulary              NaN  OMOP generated   \n477459    Vocabulary       Vocabulary              NaN  OMOP generated   \n477460    Vocabulary       Vocabulary              NaN  OMOP generated   \n477461    Vocabulary       Vocabulary              NaN  OMOP generated   \n\n        valid_start_date  valid_end_date invalid_reason  \n0               20141111        20991231            NaN  \n1               20141111        20991231            NaN  \n2               20141111        20991231            NaN  \n3               20210925        20991231            NaN  \n4               20210925        20991231            NaN  \n...                  ...             ...            ...  \n477457          19700101        20991231            NaN  \n477458          19700101        20991231            NaN  \n477459          19700101        20991231            NaN  \n477460          19700101        20991231            NaN  \n477461          19700101        20991231            NaN  \n\n[477462 rows x 10 columns]",
      "text/html": "<div>\n<style scoped>\n    .dataframe tbody tr th:only-of-type {\n        vertical-align: middle;\n    }\n\n    .dataframe tbody tr th {\n        vertical-align: top;\n    }\n\n    .dataframe thead th {\n        text-align: right;\n    }\n</style>\n<table border=\"1\" class=\"dataframe\">\n  <thead>\n    <tr style=\"text-align: right;\">\n      <th></th>\n      <th>concept_id</th>\n      <th>concept_name</th>\n      <th>domain_id</th>\n      <th>vocabulary_id</th>\n      <th>concept_class_id</th>\n      <th>standard_concept</th>\n      <th>concept_code</th>\n      <th>valid_start_date</th>\n      <th>valid_end_date</th>\n      <th>invalid_reason</th>\n    </tr>\n  </thead>\n  <tbody>\n    <tr>\n      <th>0</th>\n      <td>1146945</td>\n      <td>concept.concept_id</td>\n      <td>Metadata</td>\n      <td>CDM</td>\n      <td>Field</td>\n      <td>S</td>\n      <td>CDM1</td>\n      <td>20141111</td>\n      <td>20991231</td>\n      <td>NaN</td>\n    </tr>\n    <tr>\n      <th>1</th>\n      <td>1146954</td>\n      <td>concept.invalid_reason</td>\n      <td>Metadata</td>\n      <td>CDM</td>\n      <td>Field</td>\n      <td>S</td>\n      <td>CDM10</td>\n      <td>20141111</td>\n      <td>20991231</td>\n      <td>NaN</td>\n    </tr>\n    <tr>\n      <th>2</th>\n      <td>1147044</td>\n      <td>observation_period.observation_period_id</td>\n      <td>Metadata</td>\n      <td>CDM</td>\n      <td>Field</td>\n      <td>S</td>\n      <td>CDM100</td>\n      <td>20141111</td>\n      <td>20991231</td>\n      <td>NaN</td>\n    </tr>\n    <tr>\n      <th>3</th>\n      <td>756315</td>\n      <td>metadata.metadata_type_concept_id</td>\n      <td>Metadata</td>\n      <td>CDM</td>\n      <td>Field</td>\n      <td>S</td>\n      <td>CDM1000</td>\n      <td>20210925</td>\n      <td>20991231</td>\n      <td>NaN</td>\n    </tr>\n    <tr>\n      <th>4</th>\n      <td>756316</td>\n      <td>metadata.name</td>\n      <td>Metadata</td>\n      <td>CDM</td>\n      <td>Field</td>\n      <td>S</td>\n      <td>CDM1001</td>\n      <td>20210925</td>\n      <td>20991231</td>\n      <td>NaN</td>\n    </tr>\n    <tr>\n      <th>...</th>\n      <td>...</td>\n      <td>...</td>\n      <td>...</td>\n      <td>...</td>\n      <td>...</td>\n      <td>...</td>\n      <td>...</td>\n      <td>...</td>\n      <td>...</td>\n      <td>...</td>\n    </tr>\n    <tr>\n      <th>477457</th>\n      <td>33091</td>\n      <td>IQVIA CO-CONNECT</td>\n      <td>Metadata</td>\n      <td>Vocabulary</td>\n      <td>Vocabulary</td>\n      <td>NaN</td>\n      <td>OMOP generated</td>\n      <td>19700101</td>\n      <td>20991231</td>\n      <td>NaN</td>\n    </tr>\n    <tr>\n      <th>477458</th>\n      <td>33092</td>\n      <td>IQVIA CO-CONNECT MIABIS</td>\n      <td>Metadata</td>\n      <td>Vocabulary</td>\n      <td>Vocabulary</td>\n      <td>NaN</td>\n      <td>OMOP generated</td>\n      <td>19700101</td>\n      <td>20991231</td>\n      <td>NaN</td>\n    </tr>\n    <tr>\n      <th>477459</th>\n      <td>33093</td>\n      <td>IQVIA CO-CONNECT TWINS</td>\n      <td>Metadata</td>\n      <td>Vocabulary</td>\n      <td>Vocabulary</td>\n      <td>NaN</td>\n      <td>OMOP generated</td>\n      <td>19700101</td>\n      <td>20991231</td>\n      <td>NaN</td>\n    </tr>\n    <tr>\n      <th>477460</th>\n      <td>33095</td>\n      <td>NHS Ethnic Category</td>\n      <td>Metadata</td>\n      <td>Vocabulary</td>\n      <td>Vocabulary</td>\n      <td>NaN</td>\n      <td>OMOP generated</td>\n      <td>19700101</td>\n      <td>20991231</td>\n      <td>NaN</td>\n    </tr>\n    <tr>\n      <th>477461</th>\n      <td>33096</td>\n      <td>NHS Admission Source and Discharge Destination</td>\n      <td>Metadata</td>\n      <td>Vocabulary</td>\n      <td>Vocabulary</td>\n      <td>NaN</td>\n      <td>OMOP generated</td>\n      <td>19700101</td>\n      <td>20991231</td>\n      <td>NaN</td>\n    </tr>\n  </tbody>\n</table>\n<p>477462 rows × 10 columns</p>\n</div>"
     },
     "execution_count": 10,
     "metadata": {},
     "output_type": "execute_result"
    }
   ],
   "source": [
    "import pandas as pd\n",
    "\n",
    "df = pd.read_csv('CONCEPT_LOINC.csv', delimiter='\\t')\n",
    "df"
   ]
  },
  {
   "cell_type": "code",
   "execution_count": 11,
   "outputs": [],
   "source": [
    "cols_name = pd.read_csv('../h/dec.csv').columns.tolist()"
   ],
   "metadata": {
    "collapsed": false,
    "ExecuteTime": {
     "end_time": "2023-12-04T01:45:29.093078243Z",
     "start_time": "2023-12-04T01:45:29.084331182Z"
    }
   },
   "id": "1b75f9fea77cce0a"
  },
  {
   "cell_type": "code",
   "execution_count": 12,
   "outputs": [
    {
     "data": {
      "text/plain": "249"
     },
     "execution_count": 12,
     "metadata": {},
     "output_type": "execute_result"
    }
   ],
   "source": [
    "len(cols_name)"
   ],
   "metadata": {
    "collapsed": false,
    "ExecuteTime": {
     "end_time": "2023-12-04T01:45:31.121614342Z",
     "start_time": "2023-12-04T01:45:31.117612731Z"
    }
   },
   "id": "e872b76e1ea247bd"
  },
  {
   "cell_type": "code",
   "execution_count": 13,
   "outputs": [],
   "source": [
    "df = df[df['concept_id'].astype(str).isin(cols_name)]"
   ],
   "metadata": {
    "collapsed": false,
    "ExecuteTime": {
     "end_time": "2023-12-04T01:45:33.414621895Z",
     "start_time": "2023-12-04T01:45:33.244020457Z"
    }
   },
   "id": "28a838ec828684b"
  },
  {
   "cell_type": "code",
   "execution_count": 14,
   "outputs": [],
   "source": [
    "import pickle\n",
    "with open(\"loinc2concept\", \"wb\") as fp:   #Pickling\n",
    "    pickle.dump(dict(zip(df.concept_code.astype(str), df['concept_id'].astype(str))), fp)\n"
   ],
   "metadata": {
    "collapsed": false,
    "ExecuteTime": {
     "end_time": "2023-12-04T01:45:40.070931579Z",
     "start_time": "2023-12-04T01:45:40.067355758Z"
    }
   },
   "id": "196b23818e23047c"
  },
  {
   "cell_type": "code",
   "execution_count": null,
   "outputs": [],
   "source": [],
   "metadata": {
    "collapsed": false
   },
   "id": "8b97340b654624e"
  }
 ],
 "metadata": {
  "kernelspec": {
   "display_name": "Python 3",
   "language": "python",
   "name": "python3"
  },
  "language_info": {
   "codemirror_mode": {
    "name": "ipython",
    "version": 2
   },
   "file_extension": ".py",
   "mimetype": "text/x-python",
   "name": "python",
   "nbconvert_exporter": "python",
   "pygments_lexer": "ipython2",
   "version": "2.7.6"
  }
 },
 "nbformat": 4,
 "nbformat_minor": 5
}
