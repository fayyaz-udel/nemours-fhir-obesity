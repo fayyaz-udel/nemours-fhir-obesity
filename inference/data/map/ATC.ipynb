{
 "cells": [
  {
   "cell_type": "code",
   "execution_count": 1,
   "id": "initial_id",
   "metadata": {
    "collapsed": true,
    "ExecuteTime": {
     "end_time": "2023-12-03T22:37:24.748580008Z",
     "start_time": "2023-12-03T22:37:22.973333282Z"
    }
   },
   "outputs": [],
   "source": [
    "import pandas as pd\n",
    "\n",
    "df = pd.read_csv('../ATC10.csv')"
   ]
  },
  {
   "cell_type": "code",
   "execution_count": 2,
   "outputs": [],
   "source": [
    "df = df.drop(['person_id', 'Age'], axis=1)"
   ],
   "metadata": {
    "collapsed": false,
    "ExecuteTime": {
     "end_time": "2023-12-03T22:37:24.771775304Z",
     "start_time": "2023-12-03T22:37:24.743295333Z"
    }
   },
   "id": "89dab27d71f131b2"
  },
  {
   "cell_type": "code",
   "execution_count": 3,
   "outputs": [],
   "source": [
    "# df.drop_duplicates(inplace=True)\n",
    "df = df.groupby('concept_id').first()"
   ],
   "metadata": {
    "collapsed": false,
    "ExecuteTime": {
     "end_time": "2023-12-03T22:37:24.895540831Z",
     "start_time": "2023-12-03T22:37:24.773279784Z"
    }
   },
   "id": "eb3095b526e0ab24"
  },
  {
   "cell_type": "code",
   "execution_count": 4,
   "outputs": [],
   "source": [
    "import pickle\n",
    "with open(\"atc_map\", \"wb\") as fp:\n",
    "    pickle.dump(dict(zip(df.index.astype(str), df['mapped_concept_name'].astype(str))), fp)\n"
   ],
   "metadata": {
    "collapsed": false,
    "ExecuteTime": {
     "end_time": "2023-12-03T22:37:32.562472204Z",
     "start_time": "2023-12-03T22:37:32.557043757Z"
    }
   },
   "id": "d3c30e1d28fa5448"
  },
  {
   "cell_type": "code",
   "execution_count": 34,
   "outputs": [],
   "source": [
    "df.to_csv('ATC_MAPPING_MEHAK.csv')"
   ],
   "metadata": {
    "collapsed": false,
    "ExecuteTime": {
     "end_time": "2023-12-03T18:00:51.235596542Z",
     "start_time": "2023-12-03T18:00:51.191499439Z"
    }
   },
   "id": "ca68a77234900eba"
  },
  {
   "cell_type": "code",
   "execution_count": 15,
   "outputs": [
    {
     "data": {
      "text/plain": "       concept_id  mapped_concept_id  \\\n43749      917006           21600201   \n43750      917006           21600810   \n43751      917006           21601119   \n43752      917006           21601606   \n43753      917006           21602003   \n43754      917006           21602143   \n43755      917006           21602178   \n43756      917006           21602196   \n43757      917006           21603216   \n43758      917006           21604220   \n43759      917006           21604303   \n43760      917006           21604606   \n43761      917006           21604849   \n43762      917006           21605096   \n43763      917006           21605145   \n43764      917006           21605188   \n\n                                     mapped_concept_name  \n43749   ANTISPASMODICS IN COMBINATION WITH PSYCHOLEPTICS  \n43750     VITAMIN A AND D, INCL. COMBINATIONS OF THE TWO  \n43751                         VITAMIN B12 AND FOLIC ACID  \n43752  AGENTS FOR TREATMENT OF HEMORRHOIDS AND ANAL F...  \n43753  ANTIPRURITICS, INCL. ANTIHISTAMINES, ANESTHETI...  \n43754     CORTICOSTEROIDS, COMBINATIONS WITH ANTISEPTICS  \n43755                CORTICOSTEROIDS, OTHER COMBINATIONS  \n43756                      ANTISEPTICS AND DISINFECTANTS  \n43757                                THROAT PREPARATIONS  \n43758                                 ANESTHETICS, LOCAL  \n43759                  OTHER ANALGESICS AND ANTIPYRETICS  \n43760                            HYPNOTICS AND SEDATIVES  \n43761  AGENTS AGAINST AMOEBIASIS AND OTHER PROTOZOAL ...  \n43762                                  LOCAL ANESTHETICS  \n43763                                     ANTIINFECTIVES  \n43764                                     ANTIINFECTIVES  ",
      "text/html": "<div>\n<style scoped>\n    .dataframe tbody tr th:only-of-type {\n        vertical-align: middle;\n    }\n\n    .dataframe tbody tr th {\n        vertical-align: top;\n    }\n\n    .dataframe thead th {\n        text-align: right;\n    }\n</style>\n<table border=\"1\" class=\"dataframe\">\n  <thead>\n    <tr style=\"text-align: right;\">\n      <th></th>\n      <th>concept_id</th>\n      <th>mapped_concept_id</th>\n      <th>mapped_concept_name</th>\n    </tr>\n  </thead>\n  <tbody>\n    <tr>\n      <th>43749</th>\n      <td>917006</td>\n      <td>21600201</td>\n      <td>ANTISPASMODICS IN COMBINATION WITH PSYCHOLEPTICS</td>\n    </tr>\n    <tr>\n      <th>43750</th>\n      <td>917006</td>\n      <td>21600810</td>\n      <td>VITAMIN A AND D, INCL. COMBINATIONS OF THE TWO</td>\n    </tr>\n    <tr>\n      <th>43751</th>\n      <td>917006</td>\n      <td>21601119</td>\n      <td>VITAMIN B12 AND FOLIC ACID</td>\n    </tr>\n    <tr>\n      <th>43752</th>\n      <td>917006</td>\n      <td>21601606</td>\n      <td>AGENTS FOR TREATMENT OF HEMORRHOIDS AND ANAL F...</td>\n    </tr>\n    <tr>\n      <th>43753</th>\n      <td>917006</td>\n      <td>21602003</td>\n      <td>ANTIPRURITICS, INCL. ANTIHISTAMINES, ANESTHETI...</td>\n    </tr>\n    <tr>\n      <th>43754</th>\n      <td>917006</td>\n      <td>21602143</td>\n      <td>CORTICOSTEROIDS, COMBINATIONS WITH ANTISEPTICS</td>\n    </tr>\n    <tr>\n      <th>43755</th>\n      <td>917006</td>\n      <td>21602178</td>\n      <td>CORTICOSTEROIDS, OTHER COMBINATIONS</td>\n    </tr>\n    <tr>\n      <th>43756</th>\n      <td>917006</td>\n      <td>21602196</td>\n      <td>ANTISEPTICS AND DISINFECTANTS</td>\n    </tr>\n    <tr>\n      <th>43757</th>\n      <td>917006</td>\n      <td>21603216</td>\n      <td>THROAT PREPARATIONS</td>\n    </tr>\n    <tr>\n      <th>43758</th>\n      <td>917006</td>\n      <td>21604220</td>\n      <td>ANESTHETICS, LOCAL</td>\n    </tr>\n    <tr>\n      <th>43759</th>\n      <td>917006</td>\n      <td>21604303</td>\n      <td>OTHER ANALGESICS AND ANTIPYRETICS</td>\n    </tr>\n    <tr>\n      <th>43760</th>\n      <td>917006</td>\n      <td>21604606</td>\n      <td>HYPNOTICS AND SEDATIVES</td>\n    </tr>\n    <tr>\n      <th>43761</th>\n      <td>917006</td>\n      <td>21604849</td>\n      <td>AGENTS AGAINST AMOEBIASIS AND OTHER PROTOZOAL ...</td>\n    </tr>\n    <tr>\n      <th>43762</th>\n      <td>917006</td>\n      <td>21605096</td>\n      <td>LOCAL ANESTHETICS</td>\n    </tr>\n    <tr>\n      <th>43763</th>\n      <td>917006</td>\n      <td>21605145</td>\n      <td>ANTIINFECTIVES</td>\n    </tr>\n    <tr>\n      <th>43764</th>\n      <td>917006</td>\n      <td>21605188</td>\n      <td>ANTIINFECTIVES</td>\n    </tr>\n  </tbody>\n</table>\n</div>"
     },
     "execution_count": 15,
     "metadata": {},
     "output_type": "execute_result"
    }
   ],
   "source": [
    "df[df['concept_id'] == 917006]"
   ],
   "metadata": {
    "collapsed": false,
    "ExecuteTime": {
     "end_time": "2023-12-03T17:08:17.883780403Z",
     "start_time": "2023-12-03T17:08:17.874738941Z"
    }
   },
   "id": "6c38272be0648a27"
  },
  {
   "cell_type": "code",
   "execution_count": null,
   "outputs": [],
   "source": [
    "%========================================================================================="
   ],
   "metadata": {
    "collapsed": false
   },
   "id": "cd760e946e761cce"
  },
  {
   "cell_type": "code",
   "execution_count": 40,
   "outputs": [],
   "source": [
    "import pandas as pd\n",
    "\n",
    "atc_map = pd.read_csv('./map/ATC_MAPPING.csv')[['drug_concept_id', 'ATC_3_id', 'ATC_3_name']]"
   ],
   "metadata": {
    "collapsed": false,
    "ExecuteTime": {
     "end_time": "2023-12-03T18:04:43.656732617Z",
     "start_time": "2023-12-03T18:04:43.644709985Z"
    }
   },
   "id": "57cfb7ceb88a28af"
  },
  {
   "cell_type": "code",
   "execution_count": 43,
   "outputs": [],
   "source": [
    "atc_map = atc_map.rename(columns={'drug_concept_id':'concept_id', 'ATC_3_id': 'mapped_concept_id', 'ATC_3_name':'mapped_concept_name'})"
   ],
   "metadata": {
    "collapsed": false,
    "ExecuteTime": {
     "end_time": "2023-12-03T18:06:21.388053958Z",
     "start_time": "2023-12-03T18:06:21.343302257Z"
    }
   },
   "id": "494ed545044ea671"
  },
  {
   "cell_type": "code",
   "execution_count": 45,
   "outputs": [],
   "source": [
    "atc_map.to_csv('ATC_MAPPING_HAMED.csv')"
   ],
   "metadata": {
    "collapsed": false,
    "ExecuteTime": {
     "end_time": "2023-12-03T18:06:42.364025087Z",
     "start_time": "2023-12-03T18:06:42.316782037Z"
    }
   },
   "id": "ea63c92842fb3cb5"
  },
  {
   "cell_type": "code",
   "execution_count": null,
   "outputs": [],
   "source": [],
   "metadata": {
    "collapsed": false
   },
   "id": "935f70d073f7724b"
  },
  {
   "cell_type": "code",
   "execution_count": 1,
   "outputs": [],
   "source": [
    "import pandas as pd\n",
    "\n",
    "df = pd.read_csv('../h/dec.csv')\n",
    "med_list = df.columns.tolist()[165:]"
   ],
   "metadata": {
    "collapsed": false,
    "ExecuteTime": {
     "end_time": "2023-12-03T18:38:15.537154343Z",
     "start_time": "2023-12-03T18:38:15.284721944Z"
    }
   },
   "id": "ed57f6d443f3c1b"
  },
  {
   "cell_type": "code",
   "execution_count": 2,
   "outputs": [],
   "source": [
    "atc_hamed_df = pd.read_csv('ATC_MAPPING_HAMED.csv', index_col=0)\n",
    "atc_name_hamed_list = atc_hamed_df['mapped_concept_name'].tolist()"
   ],
   "metadata": {
    "collapsed": false,
    "ExecuteTime": {
     "end_time": "2023-12-03T18:38:15.719962574Z",
     "start_time": "2023-12-03T18:38:15.713184382Z"
    }
   },
   "id": "63624dc2017e5fbe"
  },
  {
   "cell_type": "code",
   "execution_count": 3,
   "outputs": [],
   "source": [
    "atc_mehak_df = pd.read_csv('ATC_MAPPING_MEHAK.csv', index_col=0)\n",
    "atc_name_mehak_list = atc_mehak_df['mapped_concept_name'].tolist()"
   ],
   "metadata": {
    "collapsed": false,
    "ExecuteTime": {
     "end_time": "2023-12-03T18:38:16.319106040Z",
     "start_time": "2023-12-03T18:38:16.309557730Z"
    }
   },
   "id": "3246b84310199508"
  },
  {
   "cell_type": "code",
   "execution_count": 9,
   "outputs": [],
   "source": [
    "for med in med_list:\n",
    "    if not (med in atc_name_mehak_list):\n",
    "        print(med)"
   ],
   "metadata": {
    "collapsed": false,
    "ExecuteTime": {
     "end_time": "2023-12-03T18:39:16.120017832Z",
     "start_time": "2023-12-03T18:39:16.074998806Z"
    }
   },
   "id": "22b85fadb233d0cc"
  },
  {
   "cell_type": "code",
   "execution_count": 14,
   "outputs": [
    {
     "data": {
      "text/plain": "5216"
     },
     "execution_count": 14,
     "metadata": {},
     "output_type": "execute_result"
    }
   ],
   "source": [
    "sum(atc_mehak_df['concept_id'].value_counts() > 0)"
   ],
   "metadata": {
    "collapsed": false,
    "ExecuteTime": {
     "end_time": "2023-12-03T18:49:12.864975376Z",
     "start_time": "2023-12-03T18:49:12.848652223Z"
    }
   },
   "id": "8ae1d8c40f969f7d"
  },
  {
   "cell_type": "code",
   "execution_count": 1,
   "outputs": [
    {
     "name": "stderr",
     "output_type": "stream",
     "text": [
      "/tmp/ipykernel_152639/3789731980.py:3: DtypeWarning: Columns (6,9) have mixed types. Specify dtype option on import or set low_memory=False.\n",
      "  concept2code = pd.read_csv(\"CONCEPT_RXNORM.csv\", delimiter='\t')[['concept_id', 'concept_code']]\n"
     ]
    }
   ],
   "source": [
    "import pandas as pd \n",
    "\n",
    "concept2code = pd.read_csv(\"CONCEPT_RXNORM.csv\", delimiter='\t')[['concept_id', 'concept_code']]\n",
    "concept2code['concept_id'] = concept2code['concept_id'].astype(str)\n",
    "concept2code['concept_code'] = concept2code['concept_code'].astype(str)\n"
   ],
   "metadata": {
    "collapsed": false,
    "ExecuteTime": {
     "end_time": "2023-12-03T22:35:09.530299016Z",
     "start_time": "2023-12-03T22:35:08.395774083Z"
    }
   },
   "id": "dd666d4c98f6b03b"
  },
  {
   "cell_type": "code",
   "execution_count": 5,
   "outputs": [],
   "source": [
    "import pickle\n",
    "with open(\"rxcode2conceptid\", \"wb\") as fp:   #Pickling\n",
    "    pickle.dump(dict(zip(concept2code.concept_code, concept2code.concept_id)), fp)"
   ],
   "metadata": {
    "collapsed": false,
    "ExecuteTime": {
     "end_time": "2023-12-03T22:35:50.009649484Z",
     "start_time": "2023-12-03T22:35:49.683116887Z"
    }
   },
   "id": "5cbbbab55a900bd6"
  }
 ],
 "metadata": {
  "kernelspec": {
   "display_name": "Python 3",
   "language": "python",
   "name": "python3"
  },
  "language_info": {
   "codemirror_mode": {
    "name": "ipython",
    "version": 2
   },
   "file_extension": ".py",
   "mimetype": "text/x-python",
   "name": "python",
   "nbconvert_exporter": "python",
   "pygments_lexer": "ipython2",
   "version": "2.7.6"
  }
 },
 "nbformat": 4,
 "nbformat_minor": 5
}
