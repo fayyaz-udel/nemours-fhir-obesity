{
 "cells": [
  {
   "cell_type": "code",
   "execution_count": 14,
   "id": "common-embassy",
   "metadata": {},
   "outputs": [],
   "source": [
    "import ipywidgets as widgets\n",
    "import sys\n",
    "from pathlib import Path\n",
    "import os\n",
    "import importlib\n",
    "import torch\n",
    "from torch import nn\n",
    "import torch.nn.functional as F\n",
    "from torch.autograd import *\n",
    "import pickle\n",
    "import matplotlib.pyplot as plt\n",
    "root_dir = os.path.dirname(os.path.abspath('main.ipynb'))\n",
    "\n",
    "\n",
    "import dl_train_sig_obs\n",
    "from dl_train_sig_obs import *\n",
    "import fine_train\n",
    "from fine_train import *\n"
   ]
  },
  {
   "cell_type": "code",
   "execution_count": 15,
   "id": "varying-contest",
   "metadata": {},
   "outputs": [],
   "source": [
    "\n",
    "\n",
    "importlib.reload(dl_train_sig_obs)\n",
    "import dl_train_sig_obs\n",
    "from dl_train_sig_obs import *\n",
    "\n",
    "importlib.reload(fine_train)\n",
    "import fine_train\n",
    "from fine_train import *"
   ]
  },
  {
   "cell_type": "code",
   "execution_count": 8,
   "id": "serial-trailer",
   "metadata": {},
   "outputs": [
    {
     "data": {
      "text/plain": [
       "False"
      ]
     },
     "execution_count": 8,
     "metadata": {},
     "output_type": "execute_result"
    }
   ],
   "source": [
    "import torch\n",
    "#import torchvision\n",
    "torch.cuda.is_available()"
   ]
  },
  {
   "cell_type": "code",
   "execution_count": 8,
   "id": "worthy-amplifier",
   "metadata": {},
   "outputs": [
    {
     "data": {
      "text/plain": [
       "[]"
      ]
     },
     "execution_count": 8,
     "metadata": {},
     "output_type": "execute_result"
    }
   ],
   "source": [
    "available_gpus = [torch.cuda.device(i) for i in range(torch.cuda.device_count())]\n",
    "available_gpus"
   ]
  },
  {
   "cell_type": "code",
   "execution_count": 9,
   "id": "residential-excuse",
   "metadata": {},
   "outputs": [
    {
     "data": {
      "text/plain": [
       "0"
      ]
     },
     "execution_count": 9,
     "metadata": {},
     "output_type": "execute_result"
    }
   ],
   "source": [
    "torch.cuda.device_count()"
   ]
  },
  {
   "cell_type": "code",
   "execution_count": 10,
   "id": "trying-medicine",
   "metadata": {},
   "outputs": [
    {
     "ename": "ModuleNotFoundError",
     "evalue": "No module named 'tensorflow'",
     "output_type": "error",
     "traceback": [
      "\u001b[1;31m---------------------------------------------------------------------------\u001b[0m",
      "\u001b[1;31mModuleNotFoundError\u001b[0m                       Traceback (most recent call last)",
      "Cell \u001b[1;32mIn[10], line 1\u001b[0m\n\u001b[1;32m----> 1\u001b[0m \u001b[38;5;28;01mimport\u001b[39;00m \u001b[38;5;21;01mtensorflow\u001b[39;00m \u001b[38;5;28;01mas\u001b[39;00m \u001b[38;5;21;01mtf\u001b[39;00m\n\u001b[0;32m      2\u001b[0m \u001b[38;5;28;01mimport\u001b[39;00m \u001b[38;5;21;01msys\u001b[39;00m\n\u001b[0;32m      3\u001b[0m \u001b[38;5;28mprint\u001b[39m(sys\u001b[38;5;241m.\u001b[39mversion)\n",
      "\u001b[1;31mModuleNotFoundError\u001b[0m: No module named 'tensorflow'"
     ]
    }
   ],
   "source": [
    "import tensorflow as tf\n",
    "import sys\n",
    "print(sys.version)"
   ]
  },
  {
   "cell_type": "code",
   "execution_count": 13,
   "id": "useful-french",
   "metadata": {},
   "outputs": [
    {
     "name": "stdout",
     "output_type": "stream",
     "text": [
      "None\n"
     ]
    }
   ],
   "source": [
    "print(torch.version.cuda)"
   ]
  },
  {
   "cell_type": "code",
   "execution_count": 12,
   "id": "blank-violation",
   "metadata": {},
   "outputs": [
    {
     "name": "stdout",
     "output_type": "stream",
     "text": [
      "cpu\n",
      "===============MODEL TESTING===============\n",
      "=================== 0 FOLD=====================\n",
      "saved_models/obsNew_0\n",
      "[ MODEL LOADED ]\n",
      "EncDec2(\n",
      "  (emb_feat): FeatEmbed(\n",
      "    (emb_feat): Embedding(490, 256, padding_idx=0)\n",
      "  )\n",
      "  (emb_age): AgeEmbed(\n",
      "    (emb_age): Embedding(33, 256, padding_idx=0)\n",
      "  )\n",
      "  (emb_demo): DemoEmbed(\n",
      "    (emb_demo): Embedding(23, 256, padding_idx=0)\n",
      "    (fc): Linear(in_features=256, out_features=128, bias=True)\n",
      "  )\n",
      "  (enc): Encoder2(\n",
      "    (rnn): LSTM(512, 512, num_layers=2, batch_first=True)\n",
      "    (drop): Dropout(p=0.2, inplace=False)\n",
      "  )\n",
      "  (dec): Decoder2(\n",
      "    (emb_feat): FeatEmbed(\n",
      "      (emb_feat): Embedding(490, 256, padding_idx=0)\n",
      "    )\n",
      "    (linears): ModuleList(\n",
      "      (0-7): 8 x Linear(in_features=1664, out_features=256, bias=True)\n",
      "    )\n",
      "    (linearsLast): ModuleList(\n",
      "      (0-7): 8 x Linear(in_features=256, out_features=1, bias=True)\n",
      "    )\n",
      "    (leaky): ModuleList(\n",
      "      (0-7): 8 x LeakyReLU(negative_slope=0.1)\n",
      "    )\n",
      "    (drop): Dropout(p=0.2, inplace=False)\n",
      "    (attn): LSTMAttention(\n",
      "      (attn): Linear(in_features=512, out_features=256, bias=True)\n",
      "      (v): Linear(in_features=256, out_features=1, bias=False)\n",
      "    )\n",
      "  )\n",
      ")\n",
      "======= TESTING ========\n",
      "auroc\n",
      "(7224,)\n",
      "0.8384277487212306\n",
      "0.2860481841064365\n",
      "0.362279755483639\n",
      "0.7214199759326113\n",
      "0.6642599277978339\n",
      "0.4741100323624595\n",
      "0.6454512765192377\n",
      "0.5878459687123947\n",
      "0.4416365824308063\n",
      "apr 0.6519315669582753\n",
      "(7224, 2)\n"
     ]
    },
    {
     "ename": "TypeError",
     "evalue": "dca() got an unexpected keyword argument 'predictors'",
     "output_type": "error",
     "traceback": [
      "\u001b[1;31m---------------------------------------------------------------------------\u001b[0m",
      "\u001b[1;31mTypeError\u001b[0m                                 Traceback (most recent call last)",
      "Cell \u001b[1;32mIn[12], line 1\u001b[0m\n\u001b[1;32m----> 1\u001b[0m DL_models(\u001b[38;5;124m'\u001b[39m\u001b[38;5;124mobsNew\u001b[39m\u001b[38;5;124m'\u001b[39m,\u001b[38;5;28;01mFalse\u001b[39;00m,\u001b[38;5;241m490\u001b[39m,\u001b[38;5;241m33\u001b[39m,\u001b[38;5;241m23\u001b[39m,\u001b[38;5;241m0\u001b[39m)\n",
      "File \u001b[1;32m~\\OneDrive - University of Delaware - o365\\Beheshti, Rahmat - Mehak - Hamed\\Obesity\\dl_train_sig_obs.py:94\u001b[0m, in \u001b[0;36mDL_models.__init__\u001b[1;34m(self, model_name, train, feat_vocab_size, age_vocab_size, demo_vocab_size, obs)\u001b[0m\n\u001b[0;32m     91\u001b[0m \u001b[38;5;28;01melse\u001b[39;00m:\n\u001b[0;32m     92\u001b[0m     \u001b[38;5;28mprint\u001b[39m(\u001b[38;5;124m\"\u001b[39m\u001b[38;5;124m===============MODEL TESTING===============\u001b[39m\u001b[38;5;124m\"\u001b[39m)\n\u001b[1;32m---> 94\u001b[0m     \u001b[38;5;28mself\u001b[39m\u001b[38;5;241m.\u001b[39mdl_test()\n",
      "File \u001b[1;32m~\\OneDrive - University of Delaware - o365\\Beheshti, Rahmat - Mehak - Hamed\\Obesity\\dl_train_sig_obs.py:135\u001b[0m, in \u001b[0;36mDL_models.dl_test\u001b[1;34m(self)\u001b[0m\n\u001b[0;32m    120\u001b[0m \u001b[38;5;28mself\u001b[39m\u001b[38;5;241m.\u001b[39mfp_obese\u001b[38;5;241m=\u001b[39m\u001b[38;5;241m0\u001b[39m\n\u001b[0;32m    122\u001b[0m \u001b[38;5;66;03m#self.save_dependance_meas(test_hids,i)\u001b[39;00m\n\u001b[0;32m    123\u001b[0m \u001b[38;5;66;03m#self.read_dependance_meas()\u001b[39;00m\n\u001b[0;32m    124\u001b[0m \u001b[38;5;66;03m#self.model_test_full(test_hids,i)\u001b[39;00m\n\u001b[1;32m   (...)\u001b[0m\n\u001b[0;32m    133\u001b[0m \u001b[38;5;66;03m#self.interpret_read()\u001b[39;00m\n\u001b[0;32m    134\u001b[0m \u001b[38;5;66;03m#self.model_test(test_hids,i)\u001b[39;00m\n\u001b[1;32m--> 135\u001b[0m \u001b[38;5;28mself\u001b[39m\u001b[38;5;241m.\u001b[39mtest_read(i)\n",
      "File \u001b[1;32m~\\OneDrive - University of Delaware - o365\\Beheshti, Rahmat - Mehak - Hamed\\Obesity\\dl_train_sig_obs.py:1055\u001b[0m, in \u001b[0;36mDL_models.test_read\u001b[1;34m(self, k)\u001b[0m\n\u001b[0;32m   1044\u001b[0m                         micro[i,l\u001b[38;5;241m-\u001b[39m\u001b[38;5;241m1\u001b[39m]\u001b[38;5;241m=\u001b[39mdec_labels_l\u001b[38;5;241m.\u001b[39msum()\n\u001b[0;32m   1046\u001b[0m                     \u001b[38;5;28;01mif\u001b[39;00m \u001b[38;5;28mlen\u001b[39m(prob_l)\u001b[38;5;241m>\u001b[39m\u001b[38;5;241m0\u001b[39m \u001b[38;5;129;01mand\u001b[39;00m l\u001b[38;5;241m>\u001b[39m\u001b[38;5;241m0\u001b[39m:\n\u001b[0;32m   1047\u001b[0m \u001b[38;5;66;03m#                         print(ob_l)                        \u001b[39;00m\n\u001b[0;32m   1048\u001b[0m \u001b[38;5;66;03m#                         ob_l[ob_l==0]=20\u001b[39;00m\n\u001b[1;32m   (...)\u001b[0m\n\u001b[0;32m   1053\u001b[0m \u001b[38;5;66;03m#                         ob_l[ob_l==2]=1\u001b[39;00m\n\u001b[0;32m   1054\u001b[0m \u001b[38;5;66;03m#                         print(ob_l)\u001b[39;00m\n\u001b[1;32m-> 1055\u001b[0m                         auroc_mat[i,l],auprc_mat[i,l],auprc_base[i,l]\u001b[38;5;241m=\u001b[39m\u001b[38;5;28mself\u001b[39m\u001b[38;5;241m.\u001b[39mloss(prob_l,dec_labels_l,logits_l,ob_l)   \n\u001b[0;32m   1056\u001b[0m                         \u001b[38;5;66;03m#fairness.fairness_evaluation(race_l,eth_l,gender_l,ob_l,payer_l,prob_l,dec_labels_l)\u001b[39;00m\n\u001b[0;32m   1057\u001b[0m                     \u001b[38;5;28;01melse\u001b[39;00m:\n\u001b[0;32m   1058\u001b[0m                         auroc_mat[i,l],auprc_mat[i,l],auprc_base[i,l]\u001b[38;5;241m=\u001b[39mnp\u001b[38;5;241m.\u001b[39mnan,np\u001b[38;5;241m.\u001b[39mnan,np\u001b[38;5;241m.\u001b[39mnan\n",
      "File \u001b[1;32m~\\AppData\\Roaming\\Python\\Python311\\site-packages\\torch\\nn\\modules\\module.py:1518\u001b[0m, in \u001b[0;36mModule._wrapped_call_impl\u001b[1;34m(self, *args, **kwargs)\u001b[0m\n\u001b[0;32m   1516\u001b[0m     \u001b[38;5;28;01mreturn\u001b[39;00m \u001b[38;5;28mself\u001b[39m\u001b[38;5;241m.\u001b[39m_compiled_call_impl(\u001b[38;5;241m*\u001b[39margs, \u001b[38;5;241m*\u001b[39m\u001b[38;5;241m*\u001b[39mkwargs)  \u001b[38;5;66;03m# type: ignore[misc]\u001b[39;00m\n\u001b[0;32m   1517\u001b[0m \u001b[38;5;28;01melse\u001b[39;00m:\n\u001b[1;32m-> 1518\u001b[0m     \u001b[38;5;28;01mreturn\u001b[39;00m \u001b[38;5;28mself\u001b[39m\u001b[38;5;241m.\u001b[39m_call_impl(\u001b[38;5;241m*\u001b[39margs, \u001b[38;5;241m*\u001b[39m\u001b[38;5;241m*\u001b[39mkwargs)\n",
      "File \u001b[1;32m~\\AppData\\Roaming\\Python\\Python311\\site-packages\\torch\\nn\\modules\\module.py:1527\u001b[0m, in \u001b[0;36mModule._call_impl\u001b[1;34m(self, *args, **kwargs)\u001b[0m\n\u001b[0;32m   1522\u001b[0m \u001b[38;5;66;03m# If we don't have any hooks, we want to skip the rest of the logic in\u001b[39;00m\n\u001b[0;32m   1523\u001b[0m \u001b[38;5;66;03m# this function, and just call forward.\u001b[39;00m\n\u001b[0;32m   1524\u001b[0m \u001b[38;5;28;01mif\u001b[39;00m \u001b[38;5;129;01mnot\u001b[39;00m (\u001b[38;5;28mself\u001b[39m\u001b[38;5;241m.\u001b[39m_backward_hooks \u001b[38;5;129;01mor\u001b[39;00m \u001b[38;5;28mself\u001b[39m\u001b[38;5;241m.\u001b[39m_backward_pre_hooks \u001b[38;5;129;01mor\u001b[39;00m \u001b[38;5;28mself\u001b[39m\u001b[38;5;241m.\u001b[39m_forward_hooks \u001b[38;5;129;01mor\u001b[39;00m \u001b[38;5;28mself\u001b[39m\u001b[38;5;241m.\u001b[39m_forward_pre_hooks\n\u001b[0;32m   1525\u001b[0m         \u001b[38;5;129;01mor\u001b[39;00m _global_backward_pre_hooks \u001b[38;5;129;01mor\u001b[39;00m _global_backward_hooks\n\u001b[0;32m   1526\u001b[0m         \u001b[38;5;129;01mor\u001b[39;00m _global_forward_hooks \u001b[38;5;129;01mor\u001b[39;00m _global_forward_pre_hooks):\n\u001b[1;32m-> 1527\u001b[0m     \u001b[38;5;28;01mreturn\u001b[39;00m forward_call(\u001b[38;5;241m*\u001b[39margs, \u001b[38;5;241m*\u001b[39m\u001b[38;5;241m*\u001b[39mkwargs)\n\u001b[0;32m   1529\u001b[0m \u001b[38;5;28;01mtry\u001b[39;00m:\n\u001b[0;32m   1530\u001b[0m     result \u001b[38;5;241m=\u001b[39m \u001b[38;5;28;01mNone\u001b[39;00m\n",
      "File \u001b[1;32m~\\OneDrive - University of Delaware - o365\\Beheshti, Rahmat - Mehak - Hamed\\Obesity\\evaluation.py:110\u001b[0m, in \u001b[0;36mLoss.forward\u001b[1;34m(self, prob, labels, logits, ob)\u001b[0m\n\u001b[0;32m    106\u001b[0m \u001b[38;5;66;03m#print(classify_loss, pos_p, pos_l, neg_p, neg_l)\u001b[39;00m\n\u001b[0;32m    107\u001b[0m \n\u001b[0;32m    108\u001b[0m \u001b[38;5;66;03m#################           DECISION CURVE            #######################\u001b[39;00m\n\u001b[0;32m    109\u001b[0m \u001b[38;5;28;01mif\u001b[39;00m(\u001b[38;5;28mself\u001b[39m\u001b[38;5;241m.\u001b[39mcurve):\n\u001b[1;32m--> 110\u001b[0m     \u001b[38;5;28mself\u001b[39m\u001b[38;5;241m.\u001b[39mdecision_curve(prob,labels,ob)\n\u001b[0;32m    113\u001b[0m \u001b[38;5;66;03m#################           Accuracy            #######################\u001b[39;00m\n\u001b[0;32m    114\u001b[0m \u001b[38;5;28;01mif\u001b[39;00m(\u001b[38;5;28mself\u001b[39m\u001b[38;5;241m.\u001b[39macc):\n",
      "File \u001b[1;32m~\\OneDrive - University of Delaware - o365\\Beheshti, Rahmat - Mehak - Hamed\\Obesity\\evaluation.py:176\u001b[0m, in \u001b[0;36mLoss.decision_curve\u001b[1;34m(self, prob, labels, ob)\u001b[0m\n\u001b[0;32m    172\u001b[0m         \u001b[38;5;28mprint\u001b[39m(df_binary\u001b[38;5;241m.\u001b[39mshape)\n\u001b[0;32m    173\u001b[0m \u001b[38;5;66;03m#         print(df_binary.head())\u001b[39;00m\n\u001b[0;32m    174\u001b[0m \u001b[38;5;66;03m#         df_binary = dcurves.load_test_data.load_binary_df()\u001b[39;00m\n\u001b[0;32m    175\u001b[0m \u001b[38;5;66;03m#         print(df_binary.head())\u001b[39;00m\n\u001b[1;32m--> 176\u001b[0m         binary_output_df \u001b[38;5;241m=\u001b[39m dcurves\u001b[38;5;241m.\u001b[39mdca(\n\u001b[0;32m    177\u001b[0m                 data \u001b[38;5;241m=\u001b[39m df_binary,\n\u001b[0;32m    178\u001b[0m                 outcome \u001b[38;5;241m=\u001b[39m \u001b[38;5;124m'\u001b[39m\u001b[38;5;124mlabel\u001b[39m\u001b[38;5;124m'\u001b[39m,\n\u001b[0;32m    179\u001b[0m                 predictors \u001b[38;5;241m=\u001b[39m [\u001b[38;5;124m'\u001b[39m\u001b[38;5;124mModel\u001b[39m\u001b[38;5;124m'\u001b[39m],\n\u001b[0;32m    180\u001b[0m                 thresh_vals \u001b[38;5;241m=\u001b[39m [\u001b[38;5;241m0.1\u001b[39m, \u001b[38;5;241m0.8\u001b[39m, \u001b[38;5;241m0.1\u001b[39m]\n\u001b[0;32m    181\u001b[0m         )\n\u001b[0;32m    182\u001b[0m \u001b[38;5;66;03m#         binary_output_df=pd.concat([binary_output_df,binary_output_df_baseline],axis=0)\u001b[39;00m\n\u001b[0;32m    183\u001b[0m         \u001b[38;5;28mprint\u001b[39m(\u001b[38;5;124m\"\u001b[39m\u001b[38;5;124mdecision curve\u001b[39m\u001b[38;5;124m\"\u001b[39m)    \n",
      "\u001b[1;31mTypeError\u001b[0m: dca() got an unexpected keyword argument 'predictors'"
     ]
    },
    {
     "data": {
      "image/png": "[encoded data removed]",
      "text/plain": [
       "<Figure size 800x600 with 1 Axes>"
      ]
     },
     "metadata": {},
     "output_type": "display_data"
    }
   ],
   "source": [
    "DL_models('obsNew',False,490,33,23,0)"
   ]
  },
  {
   "cell_type": "code",
   "execution_count": null,
   "id": "changing-drink",
   "metadata": {},
   "outputs": [],
   "source": []
  }
 ],
 "metadata": {
  "hide_input": false,
  "kernelspec": {
   "display_name": "Python 3 (ipykernel)",
   "language": "python",
   "name": "python3"
  },
  "language_info": {
   "codemirror_mode": {
    "name": "ipython",
    "version": 3
   },
   "file_extension": ".py",
   "mimetype": "text/x-python",
   "name": "python",
   "nbconvert_exporter": "python",
   "pygments_lexer": "ipython3",
   "version": "3.11.4"
  }
 },
 "nbformat": 4,
 "nbformat_minor": 5
}
